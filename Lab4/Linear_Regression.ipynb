{
  "nbformat": 4,
  "nbformat_minor": 0,
  "metadata": {
    "colab": {
      "name": "Linear_Regression.ipynb",
      "provenance": [],
      "collapsed_sections": []
    },
    "kernelspec": {
      "display_name": "Python 3",
      "language": "python",
      "name": "python3"
    },
    "language_info": {
      "codemirror_mode": {
        "name": "ipython",
        "version": 3
      },
      "file_extension": ".py",
      "mimetype": "text/x-python",
      "name": "python",
      "nbconvert_exporter": "python",
      "pygments_lexer": "ipython3",
      "version": "3.7.1"
    }
  },
  "cells": [
    {
      "cell_type": "markdown",
      "metadata": {
        "colab_type": "text",
        "id": "tz5MYp2mgc1O"
      },
      "source": [
        "# Linear Regression\n",
        "\n",
        "In 1991, Orley Ashenfelter, an economics professor at Princeton University, stunned the wine world with a bold prediction. He predicted that the 1990 vintage of Bordeaux wines would be the \"wine of the century,'' even better than the prized 1961 vintage. Furthermore, he made this prediction without tasting even a drop of the wine, which had been placed in oak barrels just months earlier.\n",
        "\n",
        "How did Ashenfelter predict the quality of the wine without tasting it? He used data on past vintages to come up with the following formula for predicting wine quality:\n",
        "\n",
        "\\begin{align}\n",
        "    \\widehat{\\text{wine quality}} = -7.8 &+ 0.62 \\cdot (\\text{average summer temperature}) \\nonumber \\\\\n",
        "    &+ 0.0012 \\cdot (\\text{winter rainfall}) \\nonumber \\\\\n",
        "    &- 0.0037 \\cdot (\\text{harvest rainfall}) \\nonumber \\\\\n",
        "    &+ 0.024 \\cdot (\\text{age of the wine})\n",
        "    \\label{eq:ashenfelter}\n",
        "\\end{align}\n",
        "\n",
        "The variable on the left-hand side of this expression, wine quality, is what we are trying to predict and is called \n",
        "the _target_ (or _label_). (The hat symbol over  \"wine quality\" indicates that the values are predicted instead of observed.) The variables on the right-hand side, such as \"average summer temperature\" and \"harvest rainfall,\" are called _features_ and are the inputs used to predict the target. Although Ashenfelter had no way of knowing the quality of the 1990 wines, he did have the values of the features in 1990, so to make a prediction, all he had to do was plug those values into the equation above. In this way, he arrived at the following prediction for the quality of the 1990 Bordeaux, after they had been aged for 31 years (like the 1961 Bordeaux had been at the time):\n",
        "\n",
        "\\begin{align}\n",
        "    -7.8 &+ 0.62 \\cdot (18.7) \\nonumber \\\\\n",
        "    &+ 0.0012 \\cdot (468) \\nonumber \\\\\n",
        "    &- 0.0037 \\cdot (80) \\nonumber \\\\\n",
        "    &+ 0.024 \\cdot (31) = 4.8.  \\label{eq:ashenfelter_1990}\n",
        "\\end{align}\n",
        "\n",
        "For comparison, the quality of the prized 1961 vintage was 4.6.\n",
        "\n",
        "You can imagine the uproar from wine experts, who had spent years refining their palates to distinguish good wines from bad. Robert Parker, the most influential wine critic in America, called Ashenfelter's predictions \"ludicrous and absurd\", comparing him to a \"movie critic who never goes to see the movie but tells you how good it is based on the actors and the director.\" It did not help that Ashenfelter had also openly challenged Parker's rating of the 1986 Bordeaux. Parker thought they would be \"very good and sometimes exceptional.\" But according to Ashenfelter's formula, the low summer temperatures and high harvest rainfalls in 1986 doomed the vintage.\n",
        "\n",
        "Who was right? Thirty years later, Robert Parker ranks the 1986 Bordeaux well, but the 1990 Bordeaux wines are exceptional, with three of the six wines scoring a 98 on a 100-point scale.\n",
        "\n",
        "We will reproduce Ashenfelter's analysis, which is an example of _machine learning_. Machine learning is concerned with the general problem of how to use data to make predictions. The process of producing a model like Ashenfelter's from data is called _fitting_ a model (although the terms _training_ or _learning_ are also used), and the data that is used to fit the model is the\n",
        "_training data_."
      ]
    },
    {
      "cell_type": "markdown",
      "metadata": {
        "colab_type": "text",
        "id": "kBuD03vngc12"
      },
      "source": [
        "## Getting Familiar with the Data\n",
        "\n",
        "First, we read in the historical data that Ashenfelter used. The observational unit in this data set is the vintage, so we index this `DataFrame` by the year."
      ]
    },
    {
      "cell_type": "code",
      "metadata": {
        "colab_type": "code",
        "id": "80drpebdgc14",
        "colab": {
          "base_uri": "https://localhost:8080/",
          "height": 228
        },
        "outputId": "f51dedb7-0c1c-446d-de62-1925011d8ade"
      },
      "source": [
        "import pandas as pd\n",
        "data_dir = \"\"\n",
        "bordeaux_df = pd.read_csv(\"bordeaux.csv\",index_col=\"year\")\n",
        "bordeaux_df.head()"
      ],
      "execution_count": 1,
      "outputs": [
        {
          "output_type": "execute_result",
          "data": {
            "text/html": [
              "<div>\n",
              "<style scoped>\n",
              "    .dataframe tbody tr th:only-of-type {\n",
              "        vertical-align: middle;\n",
              "    }\n",
              "\n",
              "    .dataframe tbody tr th {\n",
              "        vertical-align: top;\n",
              "    }\n",
              "\n",
              "    .dataframe thead th {\n",
              "        text-align: right;\n",
              "    }\n",
              "</style>\n",
              "<table border=\"1\" class=\"dataframe\">\n",
              "  <thead>\n",
              "    <tr style=\"text-align: right;\">\n",
              "      <th></th>\n",
              "      <th>price</th>\n",
              "      <th>summer</th>\n",
              "      <th>har</th>\n",
              "      <th>sep</th>\n",
              "      <th>win</th>\n",
              "      <th>age</th>\n",
              "    </tr>\n",
              "    <tr>\n",
              "      <th>year</th>\n",
              "      <th></th>\n",
              "      <th></th>\n",
              "      <th></th>\n",
              "      <th></th>\n",
              "      <th></th>\n",
              "      <th></th>\n",
              "    </tr>\n",
              "  </thead>\n",
              "  <tbody>\n",
              "    <tr>\n",
              "      <th>1952</th>\n",
              "      <td>37.0</td>\n",
              "      <td>17.1</td>\n",
              "      <td>160</td>\n",
              "      <td>14.3</td>\n",
              "      <td>600</td>\n",
              "      <td>40</td>\n",
              "    </tr>\n",
              "    <tr>\n",
              "      <th>1953</th>\n",
              "      <td>63.0</td>\n",
              "      <td>16.7</td>\n",
              "      <td>80</td>\n",
              "      <td>17.3</td>\n",
              "      <td>690</td>\n",
              "      <td>39</td>\n",
              "    </tr>\n",
              "    <tr>\n",
              "      <th>1955</th>\n",
              "      <td>45.0</td>\n",
              "      <td>17.1</td>\n",
              "      <td>130</td>\n",
              "      <td>16.8</td>\n",
              "      <td>502</td>\n",
              "      <td>37</td>\n",
              "    </tr>\n",
              "    <tr>\n",
              "      <th>1957</th>\n",
              "      <td>22.0</td>\n",
              "      <td>16.1</td>\n",
              "      <td>110</td>\n",
              "      <td>16.2</td>\n",
              "      <td>420</td>\n",
              "      <td>35</td>\n",
              "    </tr>\n",
              "    <tr>\n",
              "      <th>1958</th>\n",
              "      <td>18.0</td>\n",
              "      <td>16.4</td>\n",
              "      <td>187</td>\n",
              "      <td>19.1</td>\n",
              "      <td>582</td>\n",
              "      <td>34</td>\n",
              "    </tr>\n",
              "  </tbody>\n",
              "</table>\n",
              "</div>"
            ],
            "text/plain": [
              "      price  summer  har   sep  win  age\n",
              "year                                    \n",
              "1952   37.0    17.1  160  14.3  600   40\n",
              "1953   63.0    16.7   80  17.3  690   39\n",
              "1955   45.0    17.1  130  16.8  502   37\n",
              "1957   22.0    16.1  110  16.2  420   35\n",
              "1958   18.0    16.4  187  19.1  582   34"
            ]
          },
          "metadata": {
            "tags": []
          },
          "execution_count": 1
        }
      ]
    },
    {
      "cell_type": "markdown",
      "metadata": {
        "colab_type": "text",
        "id": "24fRMKkZgc1_"
      },
      "source": [
        "The **price** column is in 1981 dollars, normalized so that the 1961 Bordeaux has a price of 100. Price is a reasonable proxy for the quality of the wine. The **summer** column contains the average summer temperature (in degrees Celsius), while the **har** and **win** columns contain the harvest and winter rainfalls (in millimeters). The **sep** column stores the average temperature in September, which Ashenfelter did not include in his model."
      ]
    },
    {
      "cell_type": "markdown",
      "metadata": {
        "colab_type": "text",
        "id": "vL21wyW0gc2B"
      },
      "source": [
        "Let us also take a peek at the end of this `DataFrame`."
      ]
    },
    {
      "cell_type": "code",
      "metadata": {
        "colab_type": "code",
        "id": "pY5XHupXgc2C",
        "colab": {
          "base_uri": "https://localhost:8080/",
          "height": 228
        },
        "outputId": "4705ed4f-95bc-4f0c-99ba-32b6632dbc26"
      },
      "source": [
        "bordeaux_df.tail()"
      ],
      "execution_count": 2,
      "outputs": [
        {
          "output_type": "execute_result",
          "data": {
            "text/html": [
              "<div>\n",
              "<style scoped>\n",
              "    .dataframe tbody tr th:only-of-type {\n",
              "        vertical-align: middle;\n",
              "    }\n",
              "\n",
              "    .dataframe tbody tr th {\n",
              "        vertical-align: top;\n",
              "    }\n",
              "\n",
              "    .dataframe thead th {\n",
              "        text-align: right;\n",
              "    }\n",
              "</style>\n",
              "<table border=\"1\" class=\"dataframe\">\n",
              "  <thead>\n",
              "    <tr style=\"text-align: right;\">\n",
              "      <th></th>\n",
              "      <th>price</th>\n",
              "      <th>summer</th>\n",
              "      <th>har</th>\n",
              "      <th>sep</th>\n",
              "      <th>win</th>\n",
              "      <th>age</th>\n",
              "    </tr>\n",
              "    <tr>\n",
              "      <th>year</th>\n",
              "      <th></th>\n",
              "      <th></th>\n",
              "      <th></th>\n",
              "      <th></th>\n",
              "      <th></th>\n",
              "      <th></th>\n",
              "    </tr>\n",
              "  </thead>\n",
              "  <tbody>\n",
              "    <tr>\n",
              "      <th>1987</th>\n",
              "      <td>NaN</td>\n",
              "      <td>17.0</td>\n",
              "      <td>115</td>\n",
              "      <td>18.9</td>\n",
              "      <td>452</td>\n",
              "      <td>5</td>\n",
              "    </tr>\n",
              "    <tr>\n",
              "      <th>1988</th>\n",
              "      <td>NaN</td>\n",
              "      <td>17.1</td>\n",
              "      <td>59</td>\n",
              "      <td>16.8</td>\n",
              "      <td>808</td>\n",
              "      <td>4</td>\n",
              "    </tr>\n",
              "    <tr>\n",
              "      <th>1989</th>\n",
              "      <td>NaN</td>\n",
              "      <td>18.6</td>\n",
              "      <td>82</td>\n",
              "      <td>18.4</td>\n",
              "      <td>443</td>\n",
              "      <td>3</td>\n",
              "    </tr>\n",
              "    <tr>\n",
              "      <th>1990</th>\n",
              "      <td>NaN</td>\n",
              "      <td>18.7</td>\n",
              "      <td>80</td>\n",
              "      <td>19.3</td>\n",
              "      <td>468</td>\n",
              "      <td>2</td>\n",
              "    </tr>\n",
              "    <tr>\n",
              "      <th>1991</th>\n",
              "      <td>NaN</td>\n",
              "      <td>17.7</td>\n",
              "      <td>183</td>\n",
              "      <td>20.4</td>\n",
              "      <td>570</td>\n",
              "      <td>1</td>\n",
              "    </tr>\n",
              "  </tbody>\n",
              "</table>\n",
              "</div>"
            ],
            "text/plain": [
              "      price  summer  har   sep  win  age\n",
              "year                                    \n",
              "1987    NaN    17.0  115  18.9  452    5\n",
              "1988    NaN    17.1   59  16.8  808    4\n",
              "1989    NaN    18.6   82  18.4  443    3\n",
              "1990    NaN    18.7   80  19.3  468    2\n",
              "1991    NaN    17.7  183  20.4  570    1"
            ]
          },
          "metadata": {
            "tags": []
          },
          "execution_count": 2
        }
      ]
    },
    {
      "cell_type": "markdown",
      "metadata": {
        "colab_type": "text",
        "id": "28uXMx4kgc2H"
      },
      "source": [
        "We see that the `DataFrame` also contains data for vintages where the price is missing (including 1990, the vintage for which Ashenfelter made his prediction). In fact, prices are only available up to 1980, as it takes several years before wine quality can be estimated with much reliability), so only part of the `DataFrame` can be used for training. The rest of the data, where the features are known but the target is not, is called the _test data_. Machine learning fits a model to the training data, which is then used to predict the targets in the test data. The following code splits the `DataFrame` into the training and test sets."
      ]
    },
    {
      "cell_type": "code",
      "metadata": {
        "colab_type": "code",
        "id": "BQ8xffEcgc2J",
        "colab": {}
      },
      "source": [
        "bordeaux_train = bordeaux_df.loc[:1980].copy()\n",
        "bordeaux_test = bordeaux_df.loc[1981:].copy()"
      ],
      "execution_count": 3,
      "outputs": []
    },
    {
      "cell_type": "markdown",
      "metadata": {
        "colab_type": "text",
        "id": "TXbNNzWRgc2O"
      },
      "source": [
        "## Warm-Up: A Model with One Feature\n",
        "\n",
        "Before fitting a model that uses all of the features, we first consider a model that uses only the age of the wine to predict the price. That is, we fit a model of the form\n",
        "\\begin{equation}\n",
        "    \\widehat{\\text{price}} = b + c \\cdot \\text{age},\n",
        "    \\label{eq:simple_linear_regression}\n",
        "\\end{equation}\n",
        "where $b$ and $c$ are numbers that we will learn from the training data. Models of the form above are called _linear regression_ models. (The way in which this model is \"linear\" will become apparent in a moment.) This model only involves two variables, **age** and **price**, so we can visualize the data easily using a scatterplot (see Chapter 3)."
      ]
    },
    {
      "cell_type": "code",
      "metadata": {
        "colab_type": "code",
        "id": "v3KbYMldgc2Q",
        "colab": {
          "base_uri": "https://localhost:8080/",
          "height": 297
        },
        "outputId": "7a6831d0-160b-4aef-83b6-0f3a4c918710"
      },
      "source": [
        "bordeaux_train.plot.scatter(x=\"age\", y=\"price\")"
      ],
      "execution_count": 4,
      "outputs": [
        {
          "output_type": "execute_result",
          "data": {
            "text/plain": [
              "<matplotlib.axes._subplots.AxesSubplot at 0x7f2ce744ce80>"
            ]
          },
          "metadata": {
            "tags": []
          },
          "execution_count": 4
        },
        {
          "output_type": "display_data",
          "data": {
            "image/png": "[encoded data removed]",
            "text/plain": [
              "<Figure size 432x288 with 1 Axes>"
            ]
          },
          "metadata": {
            "tags": [],
            "needs_background": "light"
          }
        }
      ]
    },
    {
      "cell_type": "markdown",
      "metadata": {
        "colab_type": "text",
        "id": "ejFCGYtlgc2Y"
      },
      "source": [
        "Now, to fit models like the above to the training data, we use the scikit-learn package, which was used in Chapter 3 for transforming variables and calculating distances. However, its main purpose is to fit machine learning models, including linear regression. All models in scikit-learn are used in essentially the same way, following the three-step pattern:\n",
        "\n",
        "1. Declare the model.\n",
        "2. Fit the model to training data.\n",
        "3. Use the model to predict on test data.\n",
        "\n",
        "In the case of the linear regression model above, the code is as follows."
      ]
    },
    {
      "cell_type": "code",
      "metadata": {
        "colab_type": "code",
        "id": "M5tdMqZugc2b",
        "colab": {
          "base_uri": "https://localhost:8080/",
          "height": 72
        },
        "outputId": "f18aeecd-735d-433d-c60d-1fe52040b796"
      },
      "source": [
        "from sklearn.linear_model import LinearRegression\n",
        "\n",
        "X_train = bordeaux_train[[\"age\"]]\n",
        "X_test = bordeaux_test[[\"age\"]]\n",
        "y_train = bordeaux_train[\"price\"]\n",
        "\n",
        "model = LinearRegression()\n",
        "model.fit(X=X_train, y=y_train)\n",
        "model.predict(X=X_test)"
      ],
      "execution_count": 5,
      "outputs": [
        {
          "output_type": "execute_result",
          "data": {
            "text/plain": [
              "array([12.41648163, 11.26046336, 10.1044451 ,  8.94842683,  7.79240856,\n",
              "        6.6363903 ,  5.48037203,  4.32435376,  3.1683355 ,  2.01231723,\n",
              "        0.85629897])"
            ]
          },
          "metadata": {
            "tags": []
          },
          "execution_count": 5
        }
      ]
    },
    {
      "cell_type": "markdown",
      "metadata": {
        "colab_type": "text",
        "id": "vXNLm4DHgc2l"
      },
      "source": [
        "The parameters of `.fit()` are `X` for the features and `y` for the targets, which are assumed to be 2-D and 1-D arrays of numbers, respectively. So even when there is only one feature, as in this case, we still need to supply a 2-D array with one column---hence, the double brackets around `\"age\"` when defining `X_train` and `X_test`.\n",
        "\n",
        "By contrast, `.predict()` only has one parameter, `X` for the features. That is because its job is to predict the targets `y` for the given features. Note that the predictions will always be returned in the form of `numpy` arrays, no matter the type of the input data---so although we supplied `pandas` objects, `sklearn` still returned the predicted values as `numpy` arrays. The predictions are in the same order as the rows of `X`."
      ]
    },
    {
      "cell_type": "markdown",
      "metadata": {
        "colab_type": "text",
        "id": "XFtfFRqRgc2v"
      },
      "source": [
        "Because there are only two variables involved, the model above is a rare example of a machine learning model we can visualize. A general way to do this is to generate a fine grid of `X` values using `np.linspace()` and call `model.predict()` to get the predicted target at each of these values. We can then use these predictions to draw a curve which depicts the predicted value of `y` at each value of `X`. In the code below, we put the predictions in a `pandas` `Series`, indexed by the `X` values, and then call `.plot.line()`."
      ]
    },
    {
      "cell_type": "code",
      "metadata": {
        "colab_type": "code",
        "id": "imqK17uOgc20",
        "colab": {
          "base_uri": "https://localhost:8080/",
          "height": 297
        },
        "outputId": "dec06208-c9ea-4a56-9675-6923f62399b4"
      },
      "source": [
        "import numpy as np\n",
        "\n",
        "X_new = pd.DataFrame()\n",
        "# create a sequence of 200 evenly spaced numbers from 10 to 41\n",
        "X_new[\"age\"] = np.linspace(10, 41, num=200)\n",
        "\n",
        "# create a Series out of the predicted values\n",
        "# (trailing underscore indicates fitted values)\n",
        "y_new_ = pd.Series(\n",
        "    model.predict(X_new), # y values in Series.plot.line()\n",
        "    index=X_new[\"age\"]    # x values in Series.plot.line()\n",
        ")\n",
        "\n",
        "# plot the data, then the model\n",
        "bordeaux_train.plot.scatter(x=\"age\", y=\"price\")\n",
        "y_new_.plot.line()"
      ],
      "execution_count": 6,
      "outputs": [
        {
          "output_type": "execute_result",
          "data": {
            "text/plain": [
              "<matplotlib.axes._subplots.AxesSubplot at 0x7f2cdaa82fd0>"
            ]
          },
          "metadata": {
            "tags": []
          },
          "execution_count": 6
        },
        {
          "output_type": "display_data",
          "data": {
            "image/png": "[encoded data removed]",
            "text/plain": [
              "<Figure size 432x288 with 1 Axes>"
            ]
          },
          "metadata": {
            "tags": [],
            "needs_background": "light"
          }
        }
      ]
    },
    {
      "cell_type": "markdown",
      "metadata": {
        "colab_type": "text",
        "id": "4I42T5aGgc3E"
      },
      "source": [
        "The resulting plot is shown above. Notice that the curve is a straight line, which is why this model is called  _linear_ regression. In hindsight, this is obvious from the model equation: $b$ is simply the intercept and $c$ the slope of this line. All linear regression does is choose the intercept and slope to minimize the total squared distance between the points and the line---that is, between the observed and predicted prices. In mathematical terms, $b$ and $c$ are chosen to minimize\n",
        "\\begin{align}\n",
        "    & \\text{sum of } (\\text{price} - \\widehat{\\text{price}})^2 &= & & \\text{sum of } (\\text{price} - (b + c\\cdot \\text{age}))^2 \\\\\n",
        "    & \\text{over training data } &\\phantom{=} & & \\text{ over training data}.\n",
        "\\end{align}\n",
        "Since `sklearn` does this optimization for us, it is not necessary to understand the details of this process to extract useful insights out of linear regression. However, the math is explained in the appendix of this lesson for those who are curious."
      ]
    },
    {
      "cell_type": "markdown",
      "metadata": {
        "colab_type": "text",
        "id": "HjyNFyiNgc3J"
      },
      "source": [
        "## What to Do about Nonlinearity\n",
        "\n",
        "One question is whether the relationship between age and price is truly linear. In the graph above, it seems that the points deviate more from the line when prices are high than when they are low. To correct this, we need to spread out low prices and rein in high prices. Previously, we learned that this can be achieved by applying a log transformation to the prices. Let's add a column to the training data for the log-price."
      ]
    },
    {
      "cell_type": "code",
      "metadata": {
        "colab_type": "code",
        "id": "OEdVbxqugc3O",
        "colab": {}
      },
      "source": [
        "bordeaux_train[\"log(price)\"] = np.log(bordeaux_train[\"price\"])"
      ],
      "execution_count": 7,
      "outputs": []
    },
    {
      "cell_type": "markdown",
      "metadata": {
        "colab_type": "text",
        "id": "DKsRIkhdgc3V"
      },
      "source": [
        "Now, we will fit a linear regression model to predict this new target. That is, in contrast to the previous model, we now fit the model \n",
        "\\begin{equation}\n",
        "    \\widehat{\\text{log(price)}} = b + c \\cdot \\text{age},\n",
        "    \\label{eq:simple_linear_regression_log}\n",
        "\\end{equation}\n",
        "where $b$ and $c$ are chosen to minimize \n",
        "\\begin{equation}\n",
        "    \\text{sum of } (\\text{log(price)} - \\widehat{\\text{log(price)}})^2 \\text{ over training data}\n",
        "\\end{equation}\n",
        "over the training data. The code below fits this model."
      ]
    },
    {
      "cell_type": "code",
      "metadata": {
        "colab_type": "code",
        "id": "leZ3mYykgc3W",
        "colab": {
          "base_uri": "https://localhost:8080/",
          "height": 297
        },
        "outputId": "cb479892-53c1-452d-8b7d-47105e7998a9"
      },
      "source": [
        "log_price_model = LinearRegression()\n",
        "log_price_model.fit(X=bordeaux_train[[\"age\"]],\n",
        "                    y=bordeaux_train[\"log(price)\"])\n",
        "\n",
        "X_new = pd.DataFrame()\n",
        "X_new[\"age\"] = np.linspace(10, 41, num=200)\n",
        "y_new_ = pd.Series(\n",
        "    log_price_model.predict(X_new),\n",
        "    index=X_new[\"age\"]\n",
        ")\n",
        "    \n",
        "bordeaux_train.plot.scatter(x=\"age\", y=\"log(price)\")\n",
        "y_new_.plot.line()"
      ],
      "execution_count": 8,
      "outputs": [
        {
          "output_type": "execute_result",
          "data": {
            "text/plain": [
              "<matplotlib.axes._subplots.AxesSubplot at 0x7f2cda2d3e48>"
            ]
          },
          "metadata": {
            "tags": []
          },
          "execution_count": 8
        },
        {
          "output_type": "display_data",
          "data": {
            "image/png": "[encoded data removed]",
            "text/plain": [
              "<Figure size 432x288 with 1 Axes>"
            ]
          },
          "metadata": {
            "tags": [],
            "needs_background": "light"
          }
        }
      ]
    },
    {
      "cell_type": "markdown",
      "metadata": {
        "colab_type": "text",
        "id": "nRPZ83ixgc3b"
      },
      "source": [
        "The points are more evenly spread out when the target is log-price instead of price. For this reason, Ashenfelter chose log-price to be the measure of \"wine quality\" in his linear regression model."
      ]
    },
    {
      "cell_type": "markdown",
      "metadata": {
        "colab_type": "text",
        "id": "27CMYtQLgc3d"
      },
      "source": [
        "## Fitting Ashenfelter's Model\n",
        "\n",
        "We are now ready to reproduce Ashenfelter's analysis. To do so, we will need to fit a linear regression model that predicts the log-price from the average summer temperature, winter rainfall, harvest rainfall, and the age of the wine. In other words, the model is of the form\n",
        "\\begin{align}\n",
        "    \\widehat{\\text{log(price)}} = b &+ c_1 \\cdot (\\text{average summer temperature}) \\nonumber \\\\\n",
        "    &+ c_2 \\cdot (\\text{winter rainfall}) \\nonumber \\\\\n",
        "    &+ c_3 \\cdot (\\text{harvest rainfall}) \\nonumber \\\\\n",
        "    &+ c_4 \\cdot (\\text{age of the wine}), \\label{eq:multiple_linear_regression}\n",
        "\\end{align}\n",
        "where $b, c_1, c_2, c_3, c_4$ are chosen to minimize \n",
        "\\begin{equation}\n",
        "    \\text{sum of } (\\text{log(price)} - \\widehat{\\text{log(price)}})^2 \\text{ over training data.}\n",
        "\\end{equation}\n",
        "This is still a _linear regression_ model, albeit a more complicated one.\n",
        "\n",
        "The code to fit this model is the natural extension of the code we wrote to fit the earlier models in this lesson. Instead of passing `bordeaux_train[[\"age\"]]` for `X`, we now supply a `DataFrame` containing all of the features we want to be in the model."
      ]
    },
    {
      "cell_type": "code",
      "metadata": {
        "colab_type": "code",
        "id": "I7gTVpC_gc3f",
        "colab": {
          "base_uri": "https://localhost:8080/",
          "height": 35
        },
        "outputId": "3a21a37b-274a-4227-ac74-8cc9861d43f0"
      },
      "source": [
        "ashen_model = LinearRegression()\n",
        "ashen_model.fit(\n",
        "    X=bordeaux_train[[\"summer\", \"win\", \"har\", \"age\"]],\n",
        "    y=bordeaux_train[\"log(price)\"]\n",
        ")"
      ],
      "execution_count": 9,
      "outputs": [
        {
          "output_type": "execute_result",
          "data": {
            "text/plain": [
              "LinearRegression(copy_X=True, fit_intercept=True, n_jobs=None, normalize=False)"
            ]
          },
          "metadata": {
            "tags": []
          },
          "execution_count": 9
        }
      ]
    },
    {
      "cell_type": "markdown",
      "metadata": {
        "colab_type": "text",
        "id": "hE_Ke72dgc35"
      },
      "source": [
        "This model is much harder to visualize, since it involves five variables: four features, plus the target. Nevertheless, we can obtain predictions from it just as we did with the simpler models above. We just need to supply the values of all of the features in the model, in the same order as in the training data."
      ]
    },
    {
      "cell_type": "code",
      "metadata": {
        "colab_type": "code",
        "id": "VizNj96-gc36",
        "colab": {
          "base_uri": "https://localhost:8080/",
          "height": 72
        },
        "outputId": "5a7fede0-8648-45c7-ee48-a4e37f40bc1a"
      },
      "source": [
        "ashen_model.predict(\n",
        "    X=bordeaux_test[[\"summer\", \"win\", \"har\", \"age\"]]\n",
        ")"
      ],
      "execution_count": 10,
      "outputs": [
        {
          "output_type": "execute_result",
          "data": {
            "text/plain": [
              "array([3.17926885, 3.4231464 , 3.71919787, 2.83391541, 3.48195778,\n",
              "       2.4330387 , 2.91879638, 3.5924235 , 3.97294747, 4.04789338,\n",
              "       3.14087609])"
            ]
          },
          "metadata": {
            "tags": []
          },
          "execution_count": 10
        }
      ]
    },
    {
      "cell_type": "markdown",
      "metadata": {
        "colab_type": "text",
        "id": "yfpP96Nggc4C"
      },
      "source": [
        "## Communication Corner: Interpreting the Model\n",
        "\n",
        "Even though we cannot visualize Ashenfelter's model, we can still \n",
        "interpret the model by examining the values of the _intercept_ $b$ and the _coefficients_ $c_1, c_2, c_3, c_4$.\n",
        "\n",
        "The coefficients are saved in the `.coef_` attribute, after the model has been fitted. (As above, the trailing underscore in `.coef_` reminds us that these are fitted values.)"
      ]
    },
    {
      "cell_type": "code",
      "metadata": {
        "colab_type": "code",
        "id": "8SGCnIk_gc4E",
        "colab": {
          "base_uri": "https://localhost:8080/",
          "height": 35
        },
        "outputId": "8fa8772f-e935-4add-a9b1-84e27cf9a955"
      },
      "source": [
        "ashen_model.coef_"
      ],
      "execution_count": 11,
      "outputs": [
        {
          "output_type": "execute_result",
          "data": {
            "text/plain": [
              "array([ 0.61871092,  0.00119721, -0.00374825,  0.02435187])"
            ]
          },
          "metadata": {
            "tags": []
          },
          "execution_count": 11
        }
      ]
    },
    {
      "cell_type": "markdown",
      "metadata": {
        "colab_type": "text",
        "id": "CGVfEskHgc4L"
      },
      "source": [
        "These coefficients are in the same order as the columns of `X`. So $0.61871092$ is the coefficient for **summer**, $0.00119721$ the coefficient for **win**, and so on. If you compare these values with the model at the beginning of this lesson, you will see that they are exactly the coefficients that Ashenfelter obtained. \n",
        "\n",
        "A positive coefficient means that the predicted target _increases_ as that feature increases, while a negative coefficient means that it _decreases_ as that feature increases. Since **win** has a positive coefficient $(0.0012)$ and **har** has a negative coefficient $(-0.0037)$, we conclude from the model that Bordeaux wines tend to be best when winter rainfall is high and harvest rainfall is low.\n",
        "\n",
        "Another essential component of a linear regression model is the _intercept_, which is stored in the `.intercept_` attribute, separately from the coefficients."
      ]
    },
    {
      "cell_type": "code",
      "metadata": {
        "colab_type": "code",
        "id": "6oc0NmtLgc4M",
        "colab": {
          "base_uri": "https://localhost:8080/",
          "height": 35
        },
        "outputId": "b9990204-fc76-46ce-94f7-57e45cfc8ffb"
      },
      "source": [
        "ashen_model.intercept_"
      ],
      "execution_count": 12,
      "outputs": [
        {
          "output_type": "execute_result",
          "data": {
            "text/plain": [
              "-7.8311378414467105"
            ]
          },
          "metadata": {
            "tags": []
          },
          "execution_count": 12
        }
      ]
    },
    {
      "cell_type": "markdown",
      "metadata": {
        "colab_type": "text",
        "id": "KxOtqiSdgc4Z"
      },
      "source": [
        "In principle, the intercept is the predicted value when all of the features are equal to $0$. However, this interpretation is often purely hypothetical, since it may be impossible for some features to be $0$. For example, to interpret the intercept of $-7.8$ in the model above, we would have to set **summer** equal to $0$. That is, we would have to imagine a summer in Bordeaux, France where the average temperature was $0^\\circ\\text{C}$ (i.e., freezing), which would be so catastrophic that the quality of red wine would be the least of our worries!"
      ]
    },
    {
      "cell_type": "markdown",
      "metadata": {
        "colab_type": "text",
        "id": "6dZ46xkKgc4b"
      },
      "source": [
        "# Exercises"
      ]
    },
    {
      "cell_type": "markdown",
      "metadata": {
        "colab_type": "text",
        "id": "9qMHm1fOgc4l"
      },
      "source": [
        "_Exercises 1-3 ask you to fit linear regression models to the Ames housing data set (AmesHousing.txt ), which contains information about homes in Ames, Iowa._"
      ]
    },
    {
      "cell_type": "markdown",
      "metadata": {
        "colab_type": "text",
        "id": "auxey0fDgc4p"
      },
      "source": [
        "1\\. Fit a linear regression model that predicts the price of a home (**SalePrice**) using square footage (**Gr Liv Area**) as the only feature. Then, make a graph of the fitted model (this is possible because there is only one feature in this model). Do this the way we did it in the lesson, by creating a grid of `X` values and calling `model.predict()` on those `X` values."
      ]
    },
    {
      "cell_type": "code",
      "metadata": {
        "id": "gFXZfi-H-83G",
        "colab_type": "code",
        "colab": {
          "base_uri": "https://localhost:8080/",
          "height": 279
        },
        "outputId": "2257bcb0-d2fb-49d0-8047-1998b3a715c4"
      },
      "source": [
        "from sklearn.model_selection import train_test_split\n",
        "from sklearn.linear_model import LinearRegression\n",
        "\n",
        "ames_df = pd.read_csv(\"AmesHousing.txt\", sep='\\t', index_col=\"Order\")\n",
        "\n",
        "# Split the data 80% / 20%, where 20% is reserved for testing and 80% is used for training.\n",
        "length = len(ames_df.index)\n",
        "test_split = int(length * .2)\n",
        "training_split = int(test_split + 1)\n",
        "\n",
        "ames_training = ames_df.loc[training_split:].copy()\n",
        "ames_testing  = ames_df.loc[:test_split].copy()\n",
        "\n",
        "# Feature extraction.\n",
        "X_train = ames_training[[\"Gr Liv Area\"]]\n",
        "X_test  = ames_testing[[\"Gr Liv Area\"]]\n",
        "y_train = ames_training[\"SalePrice\"]\n",
        "\n",
        "# Fit the model.\n",
        "model = LinearRegression()\n",
        "model.fit(X=X_train, y=y_train)\n",
        "model.predict(X=X_test)\n",
        "\n",
        "# Plot the data.\n",
        "X_new = pd.DataFrame()\n",
        "X_new['Gr Liv Area'] = np.linspace(10, 6000, num=200)\n",
        "\n",
        "y_new_ = pd.Series(model.predict(X_new), index=X_new['Gr Liv Area'])\n",
        "\n",
        "ames_training.plot.scatter(x='Gr Liv Area', y='SalePrice')\n",
        "y_new_.plot.line(color='r')\n",
        "\n",
        "sq_ft_coef_ = model.coef_"
      ],
      "execution_count": 13,
      "outputs": [
        {
          "output_type": "display_data",
          "data": {
            "image/png": "[encoded data removed]",
            "text/plain": [
              "<Figure size 432x288 with 1 Axes>"
            ]
          },
          "metadata": {
            "tags": [],
            "needs_background": "light"
          }
        }
      ]
    },
    {
      "cell_type": "markdown",
      "metadata": {
        "colab_type": "text",
        "id": "pOTgz8KAgc4s"
      },
      "source": [
        "2\\.  There is another way to graph a fitted linear regression model: extract the intercept and coefficient and draw a line with that intercept and slope. Verify that this gives the same graph as Exercise 2. (**** SKIP THIS ONE ****)"
      ]
    },
    {
      "cell_type": "markdown",
      "metadata": {
        "colab_type": "text",
        "id": "1-I-np7Ugc40"
      },
      "source": [
        " 3\\. Fit a linear regression model that predicts the price of a home using square footage, number of bedrooms (**Bedroom AbvGr**), number of full bathrooms (**Full Bath**), and number of half bathrooms (**Half Bath**). Interpret the coefficients. Then, use your fitted model to predict the price of a home that is 1500 square feet, with 3 bedrooms, 2 full baths, and 1 half bath."
      ]
    },
    {
      "cell_type": "code",
      "metadata": {
        "id": "pTp3P2MH67Ys",
        "colab_type": "code",
        "colab": {
          "base_uri": "https://localhost:8080/",
          "height": 35
        },
        "outputId": "8a5396ee-a6cc-42c2-902c-7803d1aff153"
      },
      "source": [
        "X_train = ames_training[[\"Bedroom AbvGr\", \"Full Bath\", \"Half Bath\"]]\n",
        "X_test  = ames_training[[\"Bedroom AbvGr\", \"Full Bath\", \"Half Bath\"]]\n",
        "y_test  = ames_training[\"SalePrice\"]\n",
        "\n",
        "model = LinearRegression()\n",
        "model.fit(X=X_train, y=y_test)\n",
        "model.predict(X=X_test)\n",
        "\n",
        "print(model.coef_)"
      ],
      "execution_count": 14,
      "outputs": [
        {
          "output_type": "stream",
          "text": [
            "[-9859.25924834 77120.24554617 37969.68739844]\n"
          ],
          "name": "stdout"
        }
      ]
    },
    {
      "cell_type": "markdown",
      "metadata": {
        "id": "P_TFar8qHYqz",
        "colab_type": "text"
      },
      "source": [
        "*  The number of bedrooms decrease as the sale price goes up.\n",
        "*  The number of full bathrooms increase as the sale price goes up.\n",
        "*  The number of half bathrooms increase as the sale price goes up."
      ]
    },
    {
      "cell_type": "code",
      "metadata": {
        "id": "_ANrOByeIIZt",
        "colab_type": "code",
        "colab": {
          "base_uri": "https://localhost:8080/",
          "height": 35
        },
        "outputId": "298510e6-5606-42ba-dc82-3f450de0b38e"
      },
      "source": [
        "predicted_price = model.intercept_ + (sq_ft_coef_ * 1500) + (model.coef_[0] * 3) + (model.coef_[1] * 2) + (model.coef_[2] * 1)\n",
        "print(\"Predicted price: \" + str(predicted_price))"
      ],
      "execution_count": 15,
      "outputs": [
        {
          "output_type": "stream",
          "text": [
            "Predicted price: [395533.31047895]\n"
          ],
          "name": "stdout"
        }
      ]
    },
    {
      "cell_type": "markdown",
      "metadata": {
        "colab_type": "text",
        "id": "Vjy1aIPXgc42"
      },
      "source": [
        "_Exercises 4-5 ask you to fit linear regression models to the tips data (tips.csv ), which contains information about tips collected by a waiter._"
      ]
    },
    {
      "cell_type": "markdown",
      "metadata": {
        "colab_type": "text",
        "id": "GBoWHzLbgc45"
      },
      "source": [
        "4\\. Suppose you want to predict how much a male diner will tip on a Sunday bill of $40.00. Fit a linear regression model to the tips data to answer this question. (Hint: You will need to convert categorical variables to quantitative variables.)"
      ]
    },
    {
      "cell_type": "code",
      "metadata": {
        "id": "wCqZRjicP0s1",
        "colab_type": "code",
        "colab": {
          "base_uri": "https://localhost:8080/",
          "height": 35
        },
        "outputId": "b36025dc-4381-47d2-c0d8-7a2ab13f0fa4"
      },
      "source": [
        "tips_df = pd.read_csv(\"tips.csv\")\n",
        "tips_df = pd.get_dummies(tips_df)\n",
        "\n",
        "# Split the data.\n",
        "length = len(tips_df.index)\n",
        "test_split = int(length * .2)\n",
        "training_split = int(test_split + 1)\n",
        "\n",
        "tips_training = tips_df.loc[training_split:].copy()\n",
        "tips_testing  = tips_df.loc[:test_split].copy()\n",
        "\n",
        "# Feature extraction.\n",
        "X_train = tips_training[[\"totbill\", \"sex_M\", \"day_Sun\", \"size\" ]]\n",
        "X_test  = tips_testing[[\"totbill\", \"sex_M\", \"day_Sun\", \"size\" ]]\n",
        "y_train = tips_training[\"tip\"]\n",
        "\n",
        "# Fit the model.\n",
        "model = LinearRegression()\n",
        "model.fit(X=X_train, y=y_train)\n",
        "model.predict(X=X_test)\n",
        "\n",
        "predicted_tip = model.intercept_ + (model.coef_[0] * 40) + (model.coef_[1] * 1) + (model.coef_[2] * 1) + (model.coef_[3] * 1)\n",
        "\n",
        "print(\"Predicted tip: \" + str(predicted_tip))"
      ],
      "execution_count": 16,
      "outputs": [
        {
          "output_type": "stream",
          "text": [
            "Predicted tip: 4.347773743201043\n"
          ],
          "name": "stdout"
        }
      ]
    },
    {
      "cell_type": "markdown",
      "metadata": {
        "colab_type": "text",
        "id": "-1JP6TiPgc46"
      },
      "source": [
        "5\\. Fit a linear regression model, with no intercept, that predicts the tip from the total bill. That is, we want our predictions to be of the form \n",
        "$$ \\widehat{\\text{tip}} = c \\cdot (\\text{total bill}). $$\n",
        "where $c$ is some coefficient to be learned from the training data. \n",
        "\n",
        "(_Hint:_ `LinearRegression()` has a parameter, `fit_intercept=`, which is `True` by default.)\n",
        "    \n",
        "Plot the data and the fitted model. In practical terms, what assumption is being made when we fit a model with no intercept? "
      ]
    },
    {
      "cell_type": "code",
      "metadata": {
        "id": "80yd5cMiILU6",
        "colab_type": "code",
        "colab": {
          "base_uri": "https://localhost:8080/",
          "height": 297
        },
        "outputId": "5dc881d4-ee47-40a1-9828-a15866cf6238"
      },
      "source": [
        "X_train = tips_df[[\"totbill\"]]\n",
        "X_test = tips_df[[\"totbill\"]]\n",
        "y_train = tips_df[\"tip\"]\n",
        "\n",
        "model = LinearRegression(fit_intercept = False)\n",
        "model.fit(X=X_train, y=y_train)\n",
        "model.predict(X=X_test)\n",
        "\n",
        "X_new = pd.DataFrame()\n",
        "X_new[\"totbill\"] = np.linspace(0,55, num=50)\n",
        "y_new_ = pd.Series(model.predict(X_new), index=X_new[\"totbill\"])\n",
        "\n",
        "tips_training.plot.scatter(x=\"totbill\", y=\"tip\")\n",
        "y_new_.plot.line(color='r')"
      ],
      "execution_count": 18,
      "outputs": [
        {
          "output_type": "execute_result",
          "data": {
            "text/plain": [
              "<matplotlib.axes._subplots.AxesSubplot at 0x7f2cda1b9e10>"
            ]
          },
          "metadata": {
            "tags": []
          },
          "execution_count": 18
        },
        {
          "output_type": "display_data",
          "data": {
            "image/png": "[encoded data removed]",
            "text/plain": [
              "<Figure size 432x288 with 1 Axes>"
            ]
          },
          "metadata": {
            "tags": [],
            "needs_background": "light"
          }
        }
      ]
    },
    {
      "cell_type": "markdown",
      "metadata": {
        "id": "gR4i2JR5JQdo",
        "colab_type": "text"
      },
      "source": [
        "By having no intercept, we assume that everyone tips the exact same proportion of their bill every time. The coefficient `c` in the above formula would be that proportion."
      ]
    }
  ]
}