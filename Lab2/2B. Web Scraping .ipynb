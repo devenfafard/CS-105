{
  "nbformat": 4,
  "nbformat_minor": 0,
  "metadata": {
    "colab": {
      "name": "2B. Web Scraping .ipynb",
      "provenance": []
    },
    "kernelspec": {
      "display_name": "Python 2",
      "language": "python",
      "name": "python2"
    },
    "language_info": {
      "codemirror_mode": {
        "name": "ipython",
        "version": 2
      },
      "file_extension": ".py",
      "mimetype": "text/x-python",
      "name": "python",
      "nbconvert_exporter": "python",
      "pygments_lexer": "ipython2",
      "version": "2.7.17"
    }
  },
  "cells": [
    {
      "cell_type": "markdown",
      "metadata": {
        "colab_type": "text",
        "id": "trY1sIDAuWve"
      },
      "source": [
        "# 11.3 Web Scraping\n",
        "\n",
        "**HTML**, which stands for \"hypertext markup language\", is an XML-like language for specifying the appearance of web pages. Each tag in HTML corresponds to a specific page element. For example:\n",
        "\n",
        "- `<img>` specifies an image. The path to the image file is specified in the `src=` attribute.\n",
        "- `<a>` specifies a hyperlink. The text enclosed between `<a>` and `</a>` is the text of the link that appears, while the URL is specified in the `href=` attribute of the tag.\n",
        "- `<table>` specifies a table. The rows of the table are specified by `<tr>` tags nested inside the `<table>` tag, while the cells in each row are specified by `<td>` tags nested inside each `<tr>` tag.\n",
        "\n",
        "Our goal in this section is not to teach you HTML to make a web page. You will learn just enough HTML to be able to scrape data programmatically from a web page."
      ]
    },
    {
      "cell_type": "markdown",
      "metadata": {
        "colab_type": "text",
        "id": "_cq2Gt5ZuWvh"
      },
      "source": [
        "# Inspecting HTML Source Code\n",
        "\n",
        "Suppose we want to scrape faculty information from the [100 Best Films Website](https://www.hollywoodreporter.com/lists/100-best-films-ever-hollywood-favorites-818512) (`https://www.hollywoodreporter.com/lists/100-best-films-ever-hollywood-favorites-818512`). Once we have identified a web page that we want to scrape, the next step is to study the HTML source code. All web browsers have a \"View Source\" or \"Page Source\" feature that will display the HTML source of a web page. \n",
        "\n",
        "Visit the web page above, and view the HTML source of that page. (You may have to search online to figure out how to view the page source in your favorite browser.) Scroll down until you find the HTML code for the table containing information about the name, office, phone, e-mail, and office hours of the faculty members.\n",
        "\n",
        "Notice how difficult it can be to find a page element in the HTML source. Many browsers allow you to right-click on a page element and jump to the part of the HTML source corresponding to that element."
      ]
    },
    {
      "cell_type": "markdown",
      "metadata": {
        "id": "C6EjnizgV9SF",
        "colab_type": "text"
      },
      "source": [
        ""
      ]
    },
    {
      "cell_type": "markdown",
      "metadata": {
        "colab_type": "text",
        "id": "Ppv1jhtTuWvi"
      },
      "source": [
        "# Web Scraping Using BeautifulSoup\n",
        "\n",
        "`BeautifulSoup` is a Python library that makes it easy to navigate an HTML document. Like with `lxml`, we can query tags by name or attribute, and we can narrow our search to the ancestors and descendants of specific tags. In fact, it is possible to use `lxml` with HTML documents, but many web sites have malformed HTML, and `lxml` is not very forgiving. `BeautifulSoup` handles malformed HTML more gracefully and is thus the library of choice.\n",
        "\n",
        "First, we issue an HTTP request to the URL to get the HTML source code."
      ]
    },
    {
      "cell_type": "code",
      "metadata": {
        "colab_type": "code",
        "id": "hMmOJP-ZuWvj",
        "colab": {}
      },
      "source": [
        "import requests\n",
        "response = requests.get(\"https://www.hollywoodreporter.com/lists/100-best-films-ever-hollywood-favorites-818512\")"
      ],
      "execution_count": null,
      "outputs": []
    },
    {
      "cell_type": "markdown",
      "metadata": {
        "colab_type": "text",
        "id": "Lcuyq9gpuWvo"
      },
      "source": [
        "The HTML source is stored in the `.content` attribute of the response object. We pass this HTML source into `BeautifulSoup` to obtain a tree-like representation of the HTML document."
      ]
    },
    {
      "cell_type": "code",
      "metadata": {
        "colab_type": "code",
        "id": "9qEyIz__uWvp",
        "colab": {}
      },
      "source": [
        "from bs4 import BeautifulSoup\n",
        "soup = BeautifulSoup(response.content, \"html.parser\")"
      ],
      "execution_count": null,
      "outputs": []
    },
    {
      "cell_type": "markdown",
      "metadata": {
        "colab_type": "text",
        "id": "M5XBlMhquWvt"
      },
      "source": [
        "Now we can search for tags within this HTML document, using tags like `.find_all()`. For example, we can find all headings on this page."
      ]
    },
    {
      "cell_type": "code",
      "metadata": {
        "colab_type": "code",
        "id": "8RpjIxeGuWvu",
        "colab": {
          "base_uri": "https://localhost:8080/",
          "height": 34
        },
        "outputId": "69237175-f630-4baa-8630-17f6cae16e6d"
      },
      "source": [
        "headings = soup.find_all(\"header\")\n",
        "len(headings)\n"
      ],
      "execution_count": null,
      "outputs": [
        {
          "output_type": "execute_result",
          "data": {
            "text/plain": [
              "102"
            ]
          },
          "metadata": {
            "tags": []
          },
          "execution_count": 15
        }
      ]
    },
    {
      "cell_type": "markdown",
      "metadata": {
        "colab_type": "text",
        "id": "G_q2JhIOuWv3"
      },
      "source": [
        "There is one movie per heading except the first heading item can be ignored. We iterate over all rows, extracting information about each movie to append to `rows`, which we will eventually turn into a `DataFrame`. As you read the code below, refer to the HTML source above, so that you understand what each line is doing. In particular, ask yourself the following questions:\n",
        "\n",
        "You are encouraged to add `print()` statements inside the `for` loop to check your understanding of each line of code."
      ]
    },
    {
      "cell_type": "markdown",
      "metadata": {
        "colab_type": "text",
        "id": "kAVQaQFWuWvx"
      },
      "source": [
        "As a visual inspection of [the web page](https://statistics.calpoly.edu/content/StatisticsDirectory%26Office%20Hours) would confirm, there are 2 tables on the page, and we are interested in the second one."
      ]
    },
    {
      "cell_type": "code",
      "metadata": {
        "colab_type": "code",
        "id": "XbRSPnisuWv4",
        "colab": {
          "base_uri": "https://localhost:8080/",
          "height": 54
        },
        "outputId": "27fa40f4-1036-4cfe-e870-8f9b1f90ba34"
      },
      "source": [
        "rows = []\n",
        "for movie in headings[1:]:\n",
        "    # Get all the cells in the row.\n",
        "    movieTitle = movie.find(\"h1\").text\n",
        "    try :\n",
        "        movieYear = movie.find(\"h2\").text\n",
        "    except:\n",
        "        movieYear = None\n",
        "    # Append this data.\n",
        "    rows.append({\n",
        "        \"title\": movieTitle,\n",
        "        \"year\": movieYear\n",
        "    })\n",
        "    \n",
        "print (rows[:5]) # print first 5 rows"
      ],
      "execution_count": null,
      "outputs": [
        {
          "output_type": "stream",
          "text": [
            "[{'year': None, 'title': u\"Hollywood's 100 Favorite Films\"}, {'year': u'(1954)', 'title': u'The Seven Samurai'}, {'year': u'(1967)', 'title': u'Bonnie and Clyde'}, {'year': u'(1992)', 'title': u'Reservoir Dogs'}, {'year': u'(1980)', 'title': u'Airplane!'}]\n"
          ],
          "name": "stdout"
        }
      ]
    },
    {
      "cell_type": "markdown",
      "metadata": {
        "colab_type": "text",
        "id": "rYIyExFTuWv8"
      },
      "source": [
        "In the code above, observe that `.find_all()` returns a list with all matching tags, while `.find()` returns only the first matching tag. If no matching tags are found, then `.find_all()` will return an empty list `[]`, while `.find()` will return `None`.\n",
        "\n",
        "Finally, we turn `rows` into a `DataFrame`."
      ]
    },
    {
      "cell_type": "code",
      "metadata": {
        "colab_type": "code",
        "id": "9daEVF15uWv9",
        "colab": {
          "base_uri": "https://localhost:8080/",
          "height": 1000
        },
        "outputId": "43aac2ec-bb2d-4548-99bd-a07edd91b348"
      },
      "source": [
        "import pandas as pd\n",
        "pd.DataFrame(rows)"
      ],
      "execution_count": null,
      "outputs": [
        {
          "output_type": "execute_result",
          "data": {
            "text/plain": [
              "                                                 title    year\n",
              "0                       Hollywood's 100 Favorite Films    None\n",
              "1                                    The Seven Samurai  (1954)\n",
              "2                                     Bonnie and Clyde  (1967)\n",
              "3                                       Reservoir Dogs  (1992)\n",
              "4                                            Airplane!  (1980)\n",
              "5                                      Pan's Labyrinth  (2006)\n",
              "6                                       Doctor Zhivago  (1965)\n",
              "7                                      The Deer Hunter  (1978)\n",
              "8                   Close Encounters of the Third Kind  (1977)\n",
              "9                                                   Up  (2009)\n",
              "10                                               Rocky  (1976)\n",
              "11                                             Memento  (2000)\n",
              "12                                          Braveheart  (1995)\n",
              "13                                 Slumdog Millionaire  (2008)\n",
              "14       The Lord of the Rings: The Return of the King  (2003)\n",
              "15                                Beauty and the Beast  (1991)\n",
              "16                                               Seven  (1995)\n",
              "17                                           Inception  (2010)\n",
              "18                                            Die Hard  (1988)\n",
              "19   The Lord of the Rings: The Fellowship of the Ring  (2001)\n",
              "20                                             Amadeus  (1984)\n",
              "21                                   On the Waterfront  (1954)\n",
              "22                                              Wall-E  (2008)\n",
              "23                                        12 Angry Men  (1957)\n",
              "24                                        Ghostbusters  (1984)\n",
              "25                                  Brokeback Mountain  (2005)\n",
              "26                        The Bridge on the River Kwai  (1957)\n",
              "27                                     Blazing Saddles  (1974)\n",
              "28                             All the President's Men  (1976)\n",
              "29                                  Young Frankenstein  (1974)\n",
              "..                                                 ...     ...\n",
              "71                     One Flew Over the Cuckoo's Nest  (1975)\n",
              "72                                        Blade Runner  (1982)\n",
              "73                                        The Graduate  (1967)\n",
              "74                                  The Breakfast Club  (1985)\n",
              "75                                 Singin' in the Rain  (1952)\n",
              "76                                  The Sound of Music  (1965)\n",
              "77                                                Jaws  (1975)\n",
              "78                                  Lawrence of Arabia  (1962)\n",
              "79                            The Silence of the Lambs  (1991)\n",
              "80                                           Chinatown  (1974)\n",
              "81                               It's a Wonderful Life  (1946)\n",
              "82                                          Goodfellas  (1990)\n",
              "83                                          Annie Hall  (1977)\n",
              "84                                      Apocalypse Now  (1979)\n",
              "85                               To Kill a Mockingbird  (1962)\n",
              "86                                  Gone With the Wind  (1939)\n",
              "87                                        Forrest Gump  (1994)\n",
              "88                             Raiders of the Lost Ark  (1981)\n",
              "89                                  Back to the Future  (1985)\n",
              "90                                           Star Wars  (1977)\n",
              "91                                    Schindler's List  (1993)\n",
              "92                               2001: A Space Odyssey  (1968)\n",
              "93                          E.T. The Extra-Terrestrial  (1982)\n",
              "94                              The Godfather: Part II  (1974)\n",
              "95                                          Casablanca  (1942)\n",
              "96                                        Pulp Fiction  (1994)\n",
              "97                            The Shawshank Redemption  (1994)\n",
              "98                                        Citizen Kane  (1941)\n",
              "99                                    The Wizard of Oz  (1939)\n",
              "100                                      The Godfather  (1972)\n",
              "\n",
              "[101 rows x 2 columns]"
            ],
            "text/html": [
              "<div>\n",
              "<style scoped>\n",
              "    .dataframe tbody tr th:only-of-type {\n",
              "        vertical-align: middle;\n",
              "    }\n",
              "\n",
              "    .dataframe tbody tr th {\n",
              "        vertical-align: top;\n",
              "    }\n",
              "\n",
              "    .dataframe thead th {\n",
              "        text-align: right;\n",
              "    }\n",
              "</style>\n",
              "<table border=\"1\" class=\"dataframe\">\n",
              "  <thead>\n",
              "    <tr style=\"text-align: right;\">\n",
              "      <th></th>\n",
              "      <th>title</th>\n",
              "      <th>year</th>\n",
              "    </tr>\n",
              "  </thead>\n",
              "  <tbody>\n",
              "    <tr>\n",
              "      <th>0</th>\n",
              "      <td>Hollywood's 100 Favorite Films</td>\n",
              "      <td>None</td>\n",
              "    </tr>\n",
              "    <tr>\n",
              "      <th>1</th>\n",
              "      <td>The Seven Samurai</td>\n",
              "      <td>(1954)</td>\n",
              "    </tr>\n",
              "    <tr>\n",
              "      <th>2</th>\n",
              "      <td>Bonnie and Clyde</td>\n",
              "      <td>(1967)</td>\n",
              "    </tr>\n",
              "    <tr>\n",
              "      <th>3</th>\n",
              "      <td>Reservoir Dogs</td>\n",
              "      <td>(1992)</td>\n",
              "    </tr>\n",
              "    <tr>\n",
              "      <th>4</th>\n",
              "      <td>Airplane!</td>\n",
              "      <td>(1980)</td>\n",
              "    </tr>\n",
              "    <tr>\n",
              "      <th>5</th>\n",
              "      <td>Pan's Labyrinth</td>\n",
              "      <td>(2006)</td>\n",
              "    </tr>\n",
              "    <tr>\n",
              "      <th>6</th>\n",
              "      <td>Doctor Zhivago</td>\n",
              "      <td>(1965)</td>\n",
              "    </tr>\n",
              "    <tr>\n",
              "      <th>7</th>\n",
              "      <td>The Deer Hunter</td>\n",
              "      <td>(1978)</td>\n",
              "    </tr>\n",
              "    <tr>\n",
              "      <th>8</th>\n",
              "      <td>Close Encounters of the Third Kind</td>\n",
              "      <td>(1977)</td>\n",
              "    </tr>\n",
              "    <tr>\n",
              "      <th>9</th>\n",
              "      <td>Up</td>\n",
              "      <td>(2009)</td>\n",
              "    </tr>\n",
              "    <tr>\n",
              "      <th>10</th>\n",
              "      <td>Rocky</td>\n",
              "      <td>(1976)</td>\n",
              "    </tr>\n",
              "    <tr>\n",
              "      <th>11</th>\n",
              "      <td>Memento</td>\n",
              "      <td>(2000)</td>\n",
              "    </tr>\n",
              "    <tr>\n",
              "      <th>12</th>\n",
              "      <td>Braveheart</td>\n",
              "      <td>(1995)</td>\n",
              "    </tr>\n",
              "    <tr>\n",
              "      <th>13</th>\n",
              "      <td>Slumdog Millionaire</td>\n",
              "      <td>(2008)</td>\n",
              "    </tr>\n",
              "    <tr>\n",
              "      <th>14</th>\n",
              "      <td>The Lord of the Rings: The Return of the King</td>\n",
              "      <td>(2003)</td>\n",
              "    </tr>\n",
              "    <tr>\n",
              "      <th>15</th>\n",
              "      <td>Beauty and the Beast</td>\n",
              "      <td>(1991)</td>\n",
              "    </tr>\n",
              "    <tr>\n",
              "      <th>16</th>\n",
              "      <td>Seven</td>\n",
              "      <td>(1995)</td>\n",
              "    </tr>\n",
              "    <tr>\n",
              "      <th>17</th>\n",
              "      <td>Inception</td>\n",
              "      <td>(2010)</td>\n",
              "    </tr>\n",
              "    <tr>\n",
              "      <th>18</th>\n",
              "      <td>Die Hard</td>\n",
              "      <td>(1988)</td>\n",
              "    </tr>\n",
              "    <tr>\n",
              "      <th>19</th>\n",
              "      <td>The Lord of the Rings: The Fellowship of the Ring</td>\n",
              "      <td>(2001)</td>\n",
              "    </tr>\n",
              "    <tr>\n",
              "      <th>20</th>\n",
              "      <td>Amadeus</td>\n",
              "      <td>(1984)</td>\n",
              "    </tr>\n",
              "    <tr>\n",
              "      <th>21</th>\n",
              "      <td>On the Waterfront</td>\n",
              "      <td>(1954)</td>\n",
              "    </tr>\n",
              "    <tr>\n",
              "      <th>22</th>\n",
              "      <td>Wall-E</td>\n",
              "      <td>(2008)</td>\n",
              "    </tr>\n",
              "    <tr>\n",
              "      <th>23</th>\n",
              "      <td>12 Angry Men</td>\n",
              "      <td>(1957)</td>\n",
              "    </tr>\n",
              "    <tr>\n",
              "      <th>24</th>\n",
              "      <td>Ghostbusters</td>\n",
              "      <td>(1984)</td>\n",
              "    </tr>\n",
              "    <tr>\n",
              "      <th>25</th>\n",
              "      <td>Brokeback Mountain</td>\n",
              "      <td>(2005)</td>\n",
              "    </tr>\n",
              "    <tr>\n",
              "      <th>26</th>\n",
              "      <td>The Bridge on the River Kwai</td>\n",
              "      <td>(1957)</td>\n",
              "    </tr>\n",
              "    <tr>\n",
              "      <th>27</th>\n",
              "      <td>Blazing Saddles</td>\n",
              "      <td>(1974)</td>\n",
              "    </tr>\n",
              "    <tr>\n",
              "      <th>28</th>\n",
              "      <td>All the President's Men</td>\n",
              "      <td>(1976)</td>\n",
              "    </tr>\n",
              "    <tr>\n",
              "      <th>29</th>\n",
              "      <td>Young Frankenstein</td>\n",
              "      <td>(1974)</td>\n",
              "    </tr>\n",
              "    <tr>\n",
              "      <th>...</th>\n",
              "      <td>...</td>\n",
              "      <td>...</td>\n",
              "    </tr>\n",
              "    <tr>\n",
              "      <th>71</th>\n",
              "      <td>One Flew Over the Cuckoo's Nest</td>\n",
              "      <td>(1975)</td>\n",
              "    </tr>\n",
              "    <tr>\n",
              "      <th>72</th>\n",
              "      <td>Blade Runner</td>\n",
              "      <td>(1982)</td>\n",
              "    </tr>\n",
              "    <tr>\n",
              "      <th>73</th>\n",
              "      <td>The Graduate</td>\n",
              "      <td>(1967)</td>\n",
              "    </tr>\n",
              "    <tr>\n",
              "      <th>74</th>\n",
              "      <td>The Breakfast Club</td>\n",
              "      <td>(1985)</td>\n",
              "    </tr>\n",
              "    <tr>\n",
              "      <th>75</th>\n",
              "      <td>Singin' in the Rain</td>\n",
              "      <td>(1952)</td>\n",
              "    </tr>\n",
              "    <tr>\n",
              "      <th>76</th>\n",
              "      <td>The Sound of Music</td>\n",
              "      <td>(1965)</td>\n",
              "    </tr>\n",
              "    <tr>\n",
              "      <th>77</th>\n",
              "      <td>Jaws</td>\n",
              "      <td>(1975)</td>\n",
              "    </tr>\n",
              "    <tr>\n",
              "      <th>78</th>\n",
              "      <td>Lawrence of Arabia</td>\n",
              "      <td>(1962)</td>\n",
              "    </tr>\n",
              "    <tr>\n",
              "      <th>79</th>\n",
              "      <td>The Silence of the Lambs</td>\n",
              "      <td>(1991)</td>\n",
              "    </tr>\n",
              "    <tr>\n",
              "      <th>80</th>\n",
              "      <td>Chinatown</td>\n",
              "      <td>(1974)</td>\n",
              "    </tr>\n",
              "    <tr>\n",
              "      <th>81</th>\n",
              "      <td>It's a Wonderful Life</td>\n",
              "      <td>(1946)</td>\n",
              "    </tr>\n",
              "    <tr>\n",
              "      <th>82</th>\n",
              "      <td>Goodfellas</td>\n",
              "      <td>(1990)</td>\n",
              "    </tr>\n",
              "    <tr>\n",
              "      <th>83</th>\n",
              "      <td>Annie Hall</td>\n",
              "      <td>(1977)</td>\n",
              "    </tr>\n",
              "    <tr>\n",
              "      <th>84</th>\n",
              "      <td>Apocalypse Now</td>\n",
              "      <td>(1979)</td>\n",
              "    </tr>\n",
              "    <tr>\n",
              "      <th>85</th>\n",
              "      <td>To Kill a Mockingbird</td>\n",
              "      <td>(1962)</td>\n",
              "    </tr>\n",
              "    <tr>\n",
              "      <th>86</th>\n",
              "      <td>Gone With the Wind</td>\n",
              "      <td>(1939)</td>\n",
              "    </tr>\n",
              "    <tr>\n",
              "      <th>87</th>\n",
              "      <td>Forrest Gump</td>\n",
              "      <td>(1994)</td>\n",
              "    </tr>\n",
              "    <tr>\n",
              "      <th>88</th>\n",
              "      <td>Raiders of the Lost Ark</td>\n",
              "      <td>(1981)</td>\n",
              "    </tr>\n",
              "    <tr>\n",
              "      <th>89</th>\n",
              "      <td>Back to the Future</td>\n",
              "      <td>(1985)</td>\n",
              "    </tr>\n",
              "    <tr>\n",
              "      <th>90</th>\n",
              "      <td>Star Wars</td>\n",
              "      <td>(1977)</td>\n",
              "    </tr>\n",
              "    <tr>\n",
              "      <th>91</th>\n",
              "      <td>Schindler's List</td>\n",
              "      <td>(1993)</td>\n",
              "    </tr>\n",
              "    <tr>\n",
              "      <th>92</th>\n",
              "      <td>2001: A Space Odyssey</td>\n",
              "      <td>(1968)</td>\n",
              "    </tr>\n",
              "    <tr>\n",
              "      <th>93</th>\n",
              "      <td>E.T. The Extra-Terrestrial</td>\n",
              "      <td>(1982)</td>\n",
              "    </tr>\n",
              "    <tr>\n",
              "      <th>94</th>\n",
              "      <td>The Godfather: Part II</td>\n",
              "      <td>(1974)</td>\n",
              "    </tr>\n",
              "    <tr>\n",
              "      <th>95</th>\n",
              "      <td>Casablanca</td>\n",
              "      <td>(1942)</td>\n",
              "    </tr>\n",
              "    <tr>\n",
              "      <th>96</th>\n",
              "      <td>Pulp Fiction</td>\n",
              "      <td>(1994)</td>\n",
              "    </tr>\n",
              "    <tr>\n",
              "      <th>97</th>\n",
              "      <td>The Shawshank Redemption</td>\n",
              "      <td>(1994)</td>\n",
              "    </tr>\n",
              "    <tr>\n",
              "      <th>98</th>\n",
              "      <td>Citizen Kane</td>\n",
              "      <td>(1941)</td>\n",
              "    </tr>\n",
              "    <tr>\n",
              "      <th>99</th>\n",
              "      <td>The Wizard of Oz</td>\n",
              "      <td>(1939)</td>\n",
              "    </tr>\n",
              "    <tr>\n",
              "      <th>100</th>\n",
              "      <td>The Godfather</td>\n",
              "      <td>(1972)</td>\n",
              "    </tr>\n",
              "  </tbody>\n",
              "</table>\n",
              "<p>101 rows × 2 columns</p>\n",
              "</div>"
            ]
          },
          "metadata": {
            "tags": []
          },
          "execution_count": 17
        }
      ]
    },
    {
      "cell_type": "markdown",
      "metadata": {
        "colab_type": "text",
        "id": "1_Etb0wBuWwB"
      },
      "source": [
        "Now this data is ready for further processing."
      ]
    },
    {
      "cell_type": "markdown",
      "metadata": {
        "colab_type": "text",
        "id": "yN7cN1IluWwC"
      },
      "source": [
        "# Ethical Enlightenment: `robots.txt`\n",
        "\n",
        "Web robots are crawling the web all the time. A website may want to restrict the robots from crawling specific pages. One reason is financial: each visit to a web page, by a human or a robot, costs the website money, and the website may prefer to save their limited bandwidth for human visitors. Another reason is privacy: a website may not want a search engine to preserve a snapshot of a page for all eternity.\n",
        "\n",
        "To specify what a web robot is and isn't allowed to crawl, most websites will place a text file named `robots.txt` in the top-level directory of the web server. For example, the Statistics department web page has a `robots.txt` file: https://statistics.calpoly.edu/robots.txt\n",
        "\n",
        "The format of the `robots.txt` file should be self-explanatory, but you can read a full specification of the standard here: http://www.robotstxt.org/robotstxt.html. As you scrape websites using your web robot, always check the `robots.txt` file first, to make sure that you are respecting the wishes of the website owner."
      ]
    },
    {
      "cell_type": "markdown",
      "metadata": {
        "colab_type": "text",
        "id": "LKAvgpN6uWwD"
      },
      "source": [
        "# Exercises"
      ]
    },
    {
      "cell_type": "markdown",
      "metadata": {
        "colab_type": "text",
        "id": "KK6rJQbuuWwF"
      },
      "source": [
        "Find an easy website to scrape. What do I mean by easy?? Well, the CSE UCR Faculty website is developed in such a way to deter scrappers. Click on the link and checkout the source code. Can you understand it?? https://www1.cs.ucr.edu/people/faculty/\n",
        "\n",
        "Find another website and extract some elements from that website. Try the following websites as a suggestion:\n",
        "1. https://www.imdb.com/list/ls050274118/\n",
        "2. https://www.imdb.com/list/ls000055475/\n",
        "3. https://www.forbes.com/best-states-for-business/list/"
      ]
    },
    {
      "cell_type": "code",
      "metadata": {
        "id": "zoMOkCMJV9S4",
        "colab_type": "code",
        "colab": {
          "base_uri": "https://localhost:8080/",
          "height": 202
        },
        "outputId": "147aeb8a-a99e-4ed5-ad64-87c2c5e318ae"
      },
      "source": [
        "# Proof that we can't scrape confirmation pages for information\n",
        "print \"Parsing the live site confirmation page... \\n\"\n",
        "response = requests.get(\"https://www.allent.olympusproservices.com/confirm-booking/?cust_name=Jake+Doe\")\n",
        "soup = BeautifulSoup(response.content, \"html.parser\")\n",
        "error_msg = soup.find(id=\"wpmem_restricted_msg\").text\n",
        "print \"Returned data : \" + error_msg + \"\\n\"\n",
        "\n",
        "# Now let's pretend that we could access the table itself...\n",
        "print \"Parsing a sample of the website's HTML as a string... \\n\"\n",
        "fake_table = '<table class=\"customer\"><thead><tr><th style=\"width:250px\"> Customer </th><th style=\"width:350px\"> Address </th><th style=\"width:150px\"> Phone Number </th></tr><tr></tr></thead><tbody><tr><td>Jake Doe</td><td>123 Main Street Montclair, CA 12345 </td><td></td></tr><tr><th colspan=\"3\">Note</th></tr><tr><td colspan=\"3\" ;=\"\" text-align=\"left\">(123)-456-7890</td></tr></tbody></table>'\n",
        "fake_soup = BeautifulSoup(fake_table, 'lxml')\n",
        "customer_table = fake_soup.find_all('table')[0]\n",
        "\n",
        "print \"Returned data : \"\n",
        "for row in customer_table.find_all('tr'):\n",
        "    columns = row.find_all('td')\n",
        "    for column in columns:\n",
        "        print(column.get_text())"
      ],
      "execution_count": null,
      "outputs": [
        {
          "output_type": "stream",
          "text": [
            "Parsing the live site confirmation page... \n",
            "\n",
            "Returned data : This content is restricted to site members.  If you are an existing user, please log in.\n",
            "\n",
            "Parsing a sample of the website's HTML as a string... \n",
            "\n",
            "Returned data : \n",
            "Jake Doe\n",
            "123 Main Street Montclair, CA 12345 \n",
            "\n",
            "(123)-456-7890\n"
          ],
          "name": "stdout"
        }
      ]
    },
    {
      "cell_type": "markdown",
      "metadata": {
        "id": "2FykLQ1aWZqr",
        "colab_type": "text"
      },
      "source": [
        "**This was a fun exercise for me at work. I tried to scrape a random confirmation page to see if I could pull data off of the table, but because our website requires members to be logged in to see any content, all I could scrape was the error message.**\n",
        "\n",
        "**In good faith, I took a sample of what the HTML *would be* and parsed it in as a string instead.**"
      ]
    }
  ]
}