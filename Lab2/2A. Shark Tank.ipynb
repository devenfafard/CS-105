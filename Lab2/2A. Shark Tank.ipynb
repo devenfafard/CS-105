{
 "cells": [
  {
   "cell_type": "markdown",
   "metadata": {
    "colab_type": "text",
    "id": "pB6X4Cs0ovvn"
   },
   "source": [
    "# Shark Tank\n",
    "\n",
    "_Shark Tank_ is a reality TV show. Contestants present their idea for a company to a panel of investors (a.k.a. \"sharks\"), who then decide whether or not to invest in that company.  The investors give a certain amount of money in exchange for a percentage stake in the company (\"equity\"). If you are not familiar with the show, you may want to watch part of an episode [here](http://abc.go.com/shows/shark-tank) to get a sense of how it works. You can also search for a clip on YouTube. \n",
    "\n",
    "The data that you will examine in this lab contains data about all contestants from the first 6 seasons of the show, including:\n",
    "- the name and industry of the proposed company\n",
    "- whether or not it was funded (i.e., the \"Deal\" column)\n",
    "- which sharks chose to invest in the venture (N.B. There are 7 regular sharks, not including \"Guest\". Each shark has a column in the data set, labeled by their last name.)\n",
    "- if funded, the amount of money the sharks put in and the percentage equity they got in return\n",
    "\n",
    "To earn full credit on this lab, you should:\n",
    "- use built-in `pandas` methods (like `.sum()` and `.max()`) instead of writing a for loop over a `DataFrame` or `Series`\n",
    "- use the split-apply-combine pattern wherever possible\n",
    "\n",
    "Of course, if you can't think of a vectorized solution, a `for` loop is still better than no solution at all!"
   ]
  },
  {
   "cell_type": "code",
   "execution_count": 12,
   "metadata": {
    "colab": {},
    "colab_type": "code",
    "executionInfo": {
     "elapsed": 596,
     "status": "ok",
     "timestamp": 1593587691620,
     "user": {
      "displayName": "Mariam Salloum",
      "photoUrl": "https://lh3.googleusercontent.com/a-/AOh14GjESp3KZ04yLjAJjTVgf3vJym8HDrMI8o-7aIJENA=s64",
      "userId": "08206316293294396347"
     },
     "user_tz": 420
    },
    "id": "Us6oobKlovvp"
   },
   "outputs": [],
   "source": [
    "import pandas as pd"
   ]
  },
  {
   "cell_type": "markdown",
   "metadata": {
    "colab_type": "text",
    "id": "ngi3x0nmovvw"
   },
   "source": [
    "## Question 0. Getting and Cleaning the Data"
   ]
  },
  {
   "cell_type": "markdown",
   "metadata": {
    "colab_type": "text",
    "id": "qg5b6rHFovvw"
   },
   "source": [
    "The data is stored in the CSV file `sharktank.csv`. Read in the data into a Pandas `DataFrame`."
   ]
  },
  {
   "cell_type": "code",
   "execution_count": 13,
   "metadata": {
    "colab": {},
    "colab_type": "code",
    "id": "arHQniiLovvy"
   },
   "outputs": [
    {
     "name": "stdout",
     "output_type": "stream",
     "text": [
      "     Season  No. in series                          Company Deal  \\\n",
      "0       1.0            1.0                 Ava the Elephant  Yes   \n",
      "1       1.0            1.0            Mr. Tod's Pie Factory  Yes   \n",
      "2       1.0            1.0                          Wispots   No   \n",
      "3       1.0            1.0      College Foxes Packing Boxes   No   \n",
      "4       1.0            1.0                        Ionic Ear   No   \n",
      "5       1.0            2.0                   A Perfect Pear  Yes   \n",
      "6       1.0            2.0                   Classroom Jams  Yes   \n",
      "7       1.0            2.0                         Lifebelt   No   \n",
      "8       1.0            2.0                      Crooked Jaw   No   \n",
      "9       1.0            2.0               Sticky Note Holder   No   \n",
      "10      1.0            3.0                      Turbobaster  Yes   \n",
      "11      1.0            3.0                 Stress Free Kids  Yes   \n",
      "12      1.0            3.0             Kwyzta Chopstick Art   No   \n",
      "13      1.0            3.0  50 State Capitals in 50 Minutes   No   \n",
      "14      1.0            3.0                Voyage Air Guitar   No   \n",
      "15      1.0            4.0                 Gift Card Rescue  Yes   \n",
      "16      1.0            4.0                        Coverplay  Yes   \n",
      "17      1.0            4.0        Graffiti Removal Services   No   \n",
      "18      1.0            4.0              Souls Calling, Inc.   No   \n",
      "19      1.0            4.0               Coffee Brand Gifts   No   \n",
      "20      1.0            5.0               My Therapy Journal  Yes   \n",
      "21      1.0            5.0                         Body Jac  Yes   \n",
      "22      1.0            5.0          Good Grief Celebrations   No   \n",
      "23      1.0            5.0                  Granola Gourmet   No   \n",
      "24      1.0            5.0                        Face Blok   No   \n",
      "25      1.0            6.0            Pork Barrel BBQ Sauce  Yes   \n",
      "26      1.0            6.0                     Element Bars  Yes   \n",
      "27      1.0            6.0              Underease Underwear   No   \n",
      "28      1.0            6.0               Kalyx Technologies   No   \n",
      "29      1.0            6.0                         The Fizz   No   \n",
      "..      ...            ...                              ...  ...   \n",
      "465     6.0           22.0                      acqua vault  Yes   \n",
      "466     6.0           22.0                             Naja   No   \n",
      "467     6.0           23.0               Bee Sweet Lemonade  Yes   \n",
      "468     6.0           23.0                   Brand Yourself   No   \n",
      "469     6.0           23.0                         iC Pooch   No   \n",
      "470     6.0           23.0                       The Home T   No   \n",
      "471     6.0           24.0                          Budsies   No   \n",
      "472     6.0           24.0                     bee thinking   No   \n",
      "473     6.0           24.0                        PullyPalz  Yes   \n",
      "474     6.0           24.0                            Forus   No   \n",
      "475     6.0           25.0                       NeatCheeks  Yes   \n",
      "476     6.0           25.0                            Melni  Yes   \n",
      "477     6.0           25.0                  Beneath the Ink   No   \n",
      "478     6.0           25.0                         PittMoss  Yes   \n",
      "479     6.0           26.0                          ZinePak  Yes   \n",
      "480     6.0           26.0                       snagastool   No   \n",
      "481     6.0           26.0                       Buck Mason   No   \n",
      "482     6.0           26.0                            Noene  Yes   \n",
      "483     6.0           27.0                           AirCar  Yes   \n",
      "484     6.0           27.0                 Paleo Diet Foods   No   \n",
      "485     6.0           27.0     World Record Striper Company  Yes   \n",
      "486     6.0           27.0                          Frameri   No   \n",
      "487     6.0           28.0                             Zoom  Yes   \n",
      "488     6.0           28.0                   Sunscreen Mist   No   \n",
      "489     6.0           28.0                    SynDaver Labs  Yes   \n",
      "490     6.0           28.0                     You Kick Ass  Yes   \n",
      "491     6.0           29.0                      Shark Wheel  Yes   \n",
      "492     6.0           29.0                        Gato Cafe   No   \n",
      "493     6.0           29.0                 Sway Motorsports  Yes   \n",
      "494     6.0           29.0                        Spikeball  Yes   \n",
      "\n",
      "                  Industry Entrepreneur Gender      Amount Equity  Corcoran  \\\n",
      "0               Healthcare              Female     $50,000    55%       1.0   \n",
      "1        Food and Beverage                Male    $460,000    50%       1.0   \n",
      "2        Business Services                Male         NaN    NaN       NaN   \n",
      "3         Lifestyle / Home                Male         NaN    NaN       NaN   \n",
      "4        Uncertain / Other                Male         NaN    NaN       NaN   \n",
      "5        Food and Beverage              Female    $500,000    50%       NaN   \n",
      "6     Children / Education                Male    $250,000    10%       1.0   \n",
      "7        Consumer Products                Male         NaN    NaN       NaN   \n",
      "8         Fashion / Beauty                Male         NaN    NaN       NaN   \n",
      "9         Lifestyle / Home              Female         NaN    NaN       NaN   \n",
      "10       Food and Beverage              Female     $35,000   100%       NaN   \n",
      "11    Children / Education              Female    $250,000    50%       1.0   \n",
      "12    Children / Education                Male         NaN    NaN       NaN   \n",
      "13    Children / Education                Male         NaN    NaN       NaN   \n",
      "14   Media / Entertainment                Male         NaN    NaN       NaN   \n",
      "15         Software / Tech                Male    $200,000    50%       NaN   \n",
      "16    Children / Education              Female     $35,000    40%       1.0   \n",
      "17       Business Services                Male         NaN    NaN       NaN   \n",
      "18        Fashion / Beauty              Female         NaN    NaN       NaN   \n",
      "19       Food and Beverage                Male         NaN    NaN       NaN   \n",
      "20              Healthcare                Male     $80,000    51%       NaN   \n",
      "21        Fitness / Sports                Male    $180,000    50%       1.0   \n",
      "22       Business Services              Female         NaN    NaN       NaN   \n",
      "23       Food and Beverage                Male         NaN    NaN       NaN   \n",
      "24              Healthcare              Female         NaN    NaN       NaN   \n",
      "25       Food and Beverage                Male     $50,000    50%       1.0   \n",
      "26        Fitness / Sports                Male    $150,000    30%       NaN   \n",
      "27        Fashion / Beauty          Mixed Team         NaN    NaN       NaN   \n",
      "28        Fashion / Beauty              Female         NaN    NaN       NaN   \n",
      "29       Food and Beverage                Male         NaN    NaN       NaN   \n",
      "..                     ...                 ...         ...    ...       ...   \n",
      "465       Lifestyle / Home                Male     $75,000    25%       NaN   \n",
      "466       Fashion / Beauty              Female         NaN    NaN       NaN   \n",
      "467      Food and Beverage          Mixed Team     $60,000    25%       NaN   \n",
      "468        Software / Tech                Male         NaN    NaN       NaN   \n",
      "469           Pet Products          Mixed Team         NaN    NaN       NaN   \n",
      "470       Fashion / Beauty                Male         NaN    NaN       NaN   \n",
      "471   Children / Education                Male         NaN    NaN       NaN   \n",
      "472       Lifestyle / Home                Male         NaN    NaN       NaN   \n",
      "473   Children / Education              Female    $100,000    28%       NaN   \n",
      "474       Fitness / Sports                Male         NaN    NaN       NaN   \n",
      "475   Children / Education              Female    $150,000    25%       1.0   \n",
      "476      Uncertain / Other                Male    $500,000    12%       NaN   \n",
      "477        Software / Tech          Mixed Team         NaN    NaN       NaN   \n",
      "478        Green/CleanTech                Male    $600,000    35%       NaN   \n",
      "479  Media / Entertainment              Female    $725,000    18%       NaN   \n",
      "480        Software / Tech                Male         NaN    NaN       NaN   \n",
      "481       Fashion / Beauty                Male         NaN    NaN       NaN   \n",
      "482       Fashion / Beauty                Male    $200,000    30%       NaN   \n",
      "483        Green/CleanTech                Male  $5,000,000    50%       NaN   \n",
      "484      Food and Beverage              Female         NaN    NaN       NaN   \n",
      "485       Fitness / Sports                Male     $50,000    33%       NaN   \n",
      "486       Fashion / Beauty                Male         NaN    NaN       NaN   \n",
      "487       Lifestyle / Home              Female    $100,000    33%       1.0   \n",
      "488       Lifestyle / Home                Male         NaN    NaN       NaN   \n",
      "489             Healthcare                Male  $3,000,000    25%       NaN   \n",
      "490   Children / Education              Female    $100,000    10%       NaN   \n",
      "491       Fitness / Sports                Male    $225,000     8%       NaN   \n",
      "492      Uncertain / Other              Female         NaN    NaN       NaN   \n",
      "493        Green/CleanTech                Male    $300,000    20%       NaN   \n",
      "494       Fitness / Sports                Male    $500,000    20%       NaN   \n",
      "\n",
      "     Cuban  Greiner  Herjavec  John  O'Leary  Harrington  Guest  \\\n",
      "0      NaN      NaN       NaN   NaN      NaN         NaN    NaN   \n",
      "1      NaN      NaN       NaN   1.0      NaN         NaN    NaN   \n",
      "2      NaN      NaN       NaN   NaN      NaN         NaN    NaN   \n",
      "3      NaN      NaN       NaN   NaN      NaN         NaN    NaN   \n",
      "4      NaN      NaN       NaN   NaN      NaN         NaN    NaN   \n",
      "5      NaN      NaN       1.0   NaN      1.0         NaN    NaN   \n",
      "6      1.0      NaN       1.0   1.0      1.0         NaN    NaN   \n",
      "7      NaN      NaN       NaN   NaN      NaN         NaN    NaN   \n",
      "8      NaN      NaN       NaN   NaN      NaN         NaN    NaN   \n",
      "9      NaN      NaN       NaN   NaN      NaN         NaN    NaN   \n",
      "10     NaN      NaN       NaN   NaN      NaN         1.0    NaN   \n",
      "11     NaN      NaN       NaN   NaN      NaN         NaN    NaN   \n",
      "12     NaN      NaN       NaN   NaN      NaN         NaN    NaN   \n",
      "13     NaN      NaN       NaN   NaN      NaN         NaN    NaN   \n",
      "14     NaN      NaN       NaN   NaN      NaN         NaN    NaN   \n",
      "15     NaN      NaN       1.0   NaN      1.0         NaN    NaN   \n",
      "16     NaN      NaN       NaN   NaN      NaN         NaN    NaN   \n",
      "17     NaN      NaN       NaN   NaN      NaN         NaN    NaN   \n",
      "18     NaN      NaN       NaN   NaN      NaN         NaN    NaN   \n",
      "19     NaN      NaN       NaN   NaN      NaN         NaN    NaN   \n",
      "20     NaN      NaN       1.0   NaN      1.0         NaN    NaN   \n",
      "21     NaN      NaN       NaN   NaN      NaN         1.0    NaN   \n",
      "22     NaN      NaN       NaN   NaN      NaN         NaN    NaN   \n",
      "23     NaN      NaN       NaN   NaN      NaN         NaN    NaN   \n",
      "24     NaN      NaN       NaN   NaN      NaN         NaN    NaN   \n",
      "25     NaN      NaN       NaN   NaN      NaN         NaN    NaN   \n",
      "26     NaN      NaN       NaN   NaN      NaN         1.0    NaN   \n",
      "27     NaN      NaN       NaN   NaN      NaN         NaN    NaN   \n",
      "28     NaN      NaN       NaN   NaN      NaN         NaN    NaN   \n",
      "29     NaN      NaN       NaN   NaN      NaN         NaN    NaN   \n",
      "..     ...      ...       ...   ...      ...         ...    ...   \n",
      "465    NaN      NaN       NaN   1.0      NaN         NaN    NaN   \n",
      "466    NaN      NaN       NaN   NaN      NaN         NaN    NaN   \n",
      "467    NaN      NaN       NaN   1.0      NaN         NaN    NaN   \n",
      "468    NaN      NaN       NaN   NaN      NaN         NaN    NaN   \n",
      "469    NaN      NaN       NaN   NaN      NaN         NaN    NaN   \n",
      "470    NaN      NaN       NaN   NaN      NaN         NaN    NaN   \n",
      "471    NaN      NaN       NaN   NaN      NaN         NaN    NaN   \n",
      "472    NaN      NaN       NaN   NaN      NaN         NaN    NaN   \n",
      "473    NaN      1.0       NaN   NaN      NaN         NaN    NaN   \n",
      "474    NaN      NaN       NaN   NaN      NaN         NaN    NaN   \n",
      "475    NaN      NaN       NaN   NaN      NaN         NaN    NaN   \n",
      "476    1.0      NaN       NaN   NaN      NaN         NaN    NaN   \n",
      "477    NaN      NaN       NaN   NaN      NaN         NaN    NaN   \n",
      "478    1.0      NaN       1.0   NaN      1.0         NaN    NaN   \n",
      "479    NaN      1.0       1.0   NaN      NaN         NaN    NaN   \n",
      "480    NaN      NaN       NaN   NaN      NaN         NaN    NaN   \n",
      "481    NaN      NaN       NaN   NaN      NaN         NaN    NaN   \n",
      "482    1.0      NaN       NaN   1.0      NaN         NaN    NaN   \n",
      "483    NaN      NaN       1.0   NaN      NaN         NaN    NaN   \n",
      "484    NaN      NaN       NaN   NaN      NaN         NaN    NaN   \n",
      "485    1.0      NaN       NaN   NaN      NaN         NaN    NaN   \n",
      "486    NaN      NaN       NaN   NaN      NaN         NaN    NaN   \n",
      "487    NaN      NaN       NaN   NaN      NaN         NaN    NaN   \n",
      "488    NaN      NaN       NaN   NaN      NaN         NaN    NaN   \n",
      "489    NaN      NaN       1.0   NaN      NaN         NaN    NaN   \n",
      "490    1.0      NaN       NaN   NaN      NaN         NaN    NaN   \n",
      "491    1.0      NaN       1.0   NaN      NaN         NaN    1.0   \n",
      "492    NaN      NaN       NaN   NaN      NaN         NaN    NaN   \n",
      "493    1.0      NaN       NaN   NaN      NaN         NaN    NaN   \n",
      "494    NaN      NaN       NaN   1.0      NaN         NaN    NaN   \n",
      "\n",
      "                                       Details / Notes  \n",
      "0                                                  NaN  \n",
      "1                                                  NaN  \n",
      "2                                                  NaN  \n",
      "3                                                  NaN  \n",
      "4                                                  NaN  \n",
      "5                                                  NaN  \n",
      "6                                                  NaN  \n",
      "7                                                  NaN  \n",
      "8                                                  NaN  \n",
      "9                                                  NaN  \n",
      "10                                          2% royalty  \n",
      "11                                                 NaN  \n",
      "12                                                 NaN  \n",
      "13                                                 NaN  \n",
      "14                                                 NaN  \n",
      "15                                                 NaN  \n",
      "16                                                 NaN  \n",
      "17                                                 NaN  \n",
      "18                                                 NaN  \n",
      "19                                                 NaN  \n",
      "20                                                 NaN  \n",
      "21                 contingent on him losing 30 pounds!  \n",
      "22                                                 NaN  \n",
      "23                                                 NaN  \n",
      "24                                                 NaN  \n",
      "25                                                 NaN  \n",
      "26   license bars, entrepreneur gets 4% of sales fo...  \n",
      "27                                                 NaN  \n",
      "28                                                 NaN  \n",
      "29                                                 NaN  \n",
      "..                                                 ...  \n",
      "465                                                NaN  \n",
      "466                                                NaN  \n",
      "467                                                NaN  \n",
      "468                                                NaN  \n",
      "469                                                NaN  \n",
      "470                                                NaN  \n",
      "471                                                NaN  \n",
      "472                                                NaN  \n",
      "473                                                NaN  \n",
      "474                                                NaN  \n",
      "475                                                NaN  \n",
      "476                                                NaN  \n",
      "477                                                NaN  \n",
      "478                                                NaN  \n",
      "479                                                NaN  \n",
      "480                                                NaN  \n",
      "481                            Declined Robert's offer  \n",
      "482                                                NaN  \n",
      "483  Contingent on getting deal to bring to contine...  \n",
      "484                                                NaN  \n",
      "485                                                NaN  \n",
      "486                                                NaN  \n",
      "487                                                NaN  \n",
      "488                                                NaN  \n",
      "489                                                NaN  \n",
      "490                                                NaN  \n",
      "491  10% royalty until $500K; then converts to 5% e...  \n",
      "492                                                NaN  \n",
      "493                                                NaN  \n",
      "494                                                NaN  \n",
      "\n",
      "[495 rows x 17 columns]\n"
     ]
    }
   ],
   "source": [
    "shark_file = pd.read_csv('sharktank.csv')\n",
    "print shark_file"
   ]
  },
  {
   "cell_type": "markdown",
   "metadata": {
    "colab_type": "text",
    "id": "Ie2pafAbovv3"
   },
   "source": [
    "There is one column for each of the sharks. A 1 indicates that they chose to invest in that company, while a missing value indicates that they did not choose to invest in that company. Notice that these missing values show up as NaNs when we read in the data. Fill in these missing values with zeros. Other columns may also contain NaNs; be careful not to fill those columns with zeros, or you may end up with strange results down the line."
   ]
  },
  {
   "cell_type": "code",
   "execution_count": 23,
   "metadata": {
    "colab": {},
    "colab_type": "code",
    "id": "w6KKp8u1ovv7"
   },
   "outputs": [
    {
     "name": "stdout",
     "output_type": "stream",
     "text": [
      "0      1.0\n",
      "1      1.0\n",
      "2      0.0\n",
      "3      0.0\n",
      "4      0.0\n",
      "5      0.0\n",
      "6      1.0\n",
      "7      0.0\n",
      "8      0.0\n",
      "9      0.0\n",
      "10     0.0\n",
      "11     1.0\n",
      "12     0.0\n",
      "13     0.0\n",
      "14     0.0\n",
      "15     0.0\n",
      "16     1.0\n",
      "17     0.0\n",
      "18     0.0\n",
      "19     0.0\n",
      "20     0.0\n",
      "21     1.0\n",
      "22     0.0\n",
      "23     0.0\n",
      "24     0.0\n",
      "25     1.0\n",
      "26     0.0\n",
      "27     0.0\n",
      "28     0.0\n",
      "29     0.0\n",
      "      ... \n",
      "465    0.0\n",
      "466    0.0\n",
      "467    0.0\n",
      "468    0.0\n",
      "469    0.0\n",
      "470    0.0\n",
      "471    0.0\n",
      "472    0.0\n",
      "473    0.0\n",
      "474    0.0\n",
      "475    1.0\n",
      "476    0.0\n",
      "477    0.0\n",
      "478    0.0\n",
      "479    0.0\n",
      "480    0.0\n",
      "481    0.0\n",
      "482    0.0\n",
      "483    0.0\n",
      "484    0.0\n",
      "485    0.0\n",
      "486    0.0\n",
      "487    1.0\n",
      "488    0.0\n",
      "489    0.0\n",
      "490    0.0\n",
      "491    0.0\n",
      "492    0.0\n",
      "493    0.0\n",
      "494    0.0\n",
      "Name: Corcoran, Length: 495, dtype: float64\n"
     ]
    }
   ],
   "source": [
    "mask = shark_file.Corcoran != 1.0\n",
    "shark = 'Corcoran'\n",
    "shark_file.loc[mask, shark] = 0\n",
    "\n",
    "mask = shark_file.Cuban != 1.0\n",
    "shark = 'Cuban'\n",
    "shark_file.loc[mask, shark] = 0\n",
    "\n",
    "mask = shark_file.Cuban != 1.0\n",
    "shark = 'Cuban'\n",
    "shark_file.loc[mask, shark] = 0\n",
    "#print shark_file['Corcoran']"
   ]
  },
  {
   "cell_type": "code",
   "execution_count": null,
   "metadata": {},
   "outputs": [],
   "source": []
  },
  {
   "cell_type": "code",
   "execution_count": null,
   "metadata": {},
   "outputs": [],
   "source": []
  },
  {
   "cell_type": "markdown",
   "metadata": {
    "colab_type": "text",
    "id": "jzFqjoaYovv_"
   },
   "source": [
    "Notice that Amount and Equity are currently being treated as categorical variables (`dtype: object`). Can you figure out why this is? Clean up these columns and cast them to numeric types (i.e., a `dtype` of `int` or `float`) because we'll need to perform mathematical operations on these columns."
   ]
  },
  {
   "cell_type": "code",
   "execution_count": null,
   "metadata": {
    "colab": {},
    "colab_type": "code",
    "id": "HQjnkHrZovwA"
   },
   "outputs": [],
   "source": [
    "# YOUR CODE HERE"
   ]
  },
  {
   "cell_type": "markdown",
   "metadata": {
    "colab_type": "text",
    "id": "MY8G1ZuRovwE"
   },
   "source": [
    "## Question 1. Which Company was Worth the Most?"
   ]
  },
  {
   "cell_type": "markdown",
   "metadata": {
    "colab_type": "text",
    "id": "VuyDKd9LovwE"
   },
   "source": [
    "The valuation of a company is how much it is worth. If someone invests \\\\$10,000 for a 40\\% equity stake in the company, then this means the company must be valued at \\$25,000, since 40% of \\\\$25,000 is \\\\$10,000.\n",
    "\n",
    "Calculate the valuation of each company that was funded. Which company was most valuable? Is it the same as the company that received the largest total investment from the sharks?"
   ]
  },
  {
   "cell_type": "code",
   "execution_count": null,
   "metadata": {
    "colab": {},
    "colab_type": "code",
    "id": "9_mHDH2novwF"
   },
   "outputs": [],
   "source": [
    "# YOUR CODE HERE"
   ]
  },
  {
   "cell_type": "markdown",
   "metadata": {
    "colab_type": "text",
    "id": "RQw_4omBovwK"
   },
   "source": [
    "**YOUR EXPLANATION HERE**"
   ]
  },
  {
   "cell_type": "markdown",
   "metadata": {
    "colab_type": "text",
    "id": "deHlRRDoovwK"
   },
   "source": [
    "## Question 2. Which Shark Invested the Most?"
   ]
  },
  {
   "cell_type": "markdown",
   "metadata": {
    "colab_type": "text",
    "id": "snpYXOcOovwM"
   },
   "source": [
    "Calculate the total amount of money that each shark invested over the 6 seasons. Which shark invested the most total money over the 6 seasons?\n",
    "\n",
    "_Hint:_ If $n$ sharks funded a given venture, then the amount that each shark invested is the total amount divided by $n$."
   ]
  },
  {
   "cell_type": "code",
   "execution_count": null,
   "metadata": {
    "colab": {},
    "colab_type": "code",
    "id": "1UZfCn-2ovwO"
   },
   "outputs": [],
   "source": [
    "# ENTER CODE HERE."
   ]
  },
  {
   "cell_type": "markdown",
   "metadata": {
    "colab_type": "text",
    "id": "nAgPUDFKovwR"
   },
   "source": [
    "**YOUR EXPLANATION HERE**"
   ]
  },
  {
   "cell_type": "markdown",
   "metadata": {
    "colab_type": "text",
    "id": "3vN86vhHovwS"
   },
   "source": [
    "## Question 3. Do the Sharks Prefer Certain Industries?\n",
    "\n",
    "Calculate the funding rate (the proportion of companies that were funded) for each industry. Make a visualization showing this information."
   ]
  },
  {
   "cell_type": "code",
   "execution_count": null,
   "metadata": {
    "colab": {},
    "colab_type": "code",
    "id": "HoeI9g5NovwT"
   },
   "outputs": [],
   "source": [
    "# ENTER CODE HERE."
   ]
  },
  {
   "cell_type": "markdown",
   "metadata": {
    "colab_type": "text",
    "id": "Kl12YJvOovwa"
   },
   "source": [
    "**YOUR EXPLANATION HERE**"
   ]
  },
  {
   "cell_type": "markdown",
   "metadata": {
    "colab_type": "text",
    "id": "KaVqM_7xovwc"
   },
   "source": [
    "## Submission Instructions\n",
    "\n",
    "Once you are finished, follow these steps:\n",
    "\n",
    "1. Restart the kernel and re-run this notebook from beginning to end by going to `Kernel > Restart Kernel and Run All Cells`.\n",
    "\n",
    "2. If this process stops halfway through, that means there was an error. Correct the error and repeat Step 1 until the notebook runs from beginning to end.\n",
    "\n",
    "3. Double check that there is a number next to each code cell and that these numbers are in order.\n",
    "\n",
    "Then, submit your lab as follows:\n",
    "\n",
    "1. Go to `File > Export Notebook As > PDF`.\n",
    "\n",
    "2. Double check that the entire notebook, from beginning to end, is in this PDF file. (If the notebook is cut off, try first exporting the notebook to HTML and printing to PDF.)\n",
    "\n",
    "3. Upload the PDF and Notebook (ipynb) to iLearn"
   ]
  }
 ],
 "metadata": {
  "colab": {
   "name": "2A. Shark Tank.ipynb",
   "provenance": []
  },
  "kernelspec": {
   "display_name": "Python 2",
   "language": "python",
   "name": "python2"
  },
  "language_info": {
   "codemirror_mode": {
    "name": "ipython",
    "version": 2
   },
   "file_extension": ".py",
   "mimetype": "text/x-python",
   "name": "python",
   "nbconvert_exporter": "python",
   "pygments_lexer": "ipython2",
   "version": "2.7.17"
  }
 },
 "nbformat": 4,
 "nbformat_minor": 2
}
