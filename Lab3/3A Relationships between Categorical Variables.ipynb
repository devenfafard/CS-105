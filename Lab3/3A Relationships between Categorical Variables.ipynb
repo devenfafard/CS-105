{
  "nbformat": 4,
  "nbformat_minor": 0,
  "metadata": {
    "kernelspec": {
      "display_name": "Python 3",
      "language": "python",
      "name": "python3"
    },
    "language_info": {
      "codemirror_mode": {
        "name": "ipython",
        "version": 3
      },
      "file_extension": ".py",
      "mimetype": "text/x-python",
      "name": "python",
      "nbconvert_exporter": "python",
      "pygments_lexer": "ipython3",
      "version": "3.7.1"
    },
    "colab": {
      "name": "3A Relationships between Categorical Variables.ipynb",
      "provenance": [],
      "toc_visible": true
    }
  },
  "cells": [
    {
      "cell_type": "markdown",
      "metadata": {
        "id": "Vnfk1NDFXmWC",
        "colab_type": "text"
      },
      "source": [
        "# 3A Relationships between Variables\n",
        "\n",
        "So far, we have seen different ways to summarize and visualize _individual_ variables in a data set. But we have not really discussed how to summarize and visualize relationships between _multiple_ variables. This chapter is all about how to understand relationships between the columns in a `DataFrame`. The methods will be different, depending on whether the variables are categorical or quantitative."
      ]
    },
    {
      "cell_type": "markdown",
      "metadata": {
        "id": "jmV6fwWTXmWE",
        "colab_type": "text"
      },
      "source": [
        "# 3.1 Relationships between Categorical Variables\n",
        "\n",
        "In this section, we look at ways to summarize the relationship between two _categorical_ variables. To do this, we will again use the Titanic data set."
      ]
    },
    {
      "cell_type": "code",
      "metadata": {
        "id": "bjYSRdt3XmWG",
        "colab_type": "code",
        "colab": {}
      },
      "source": [
        "%matplotlib inline\n",
        "import pandas as pd\n",
        "\n",
        "titanic_df = pd.read_csv(\"titanic.csv\")"
      ],
      "execution_count": 1,
      "outputs": []
    },
    {
      "cell_type": "markdown",
      "metadata": {
        "id": "dh7Ed8x3XmWO",
        "colab_type": "text"
      },
      "source": [
        "Suppose we want to understand the relationship between where a passenger embarked and what class they were in. We can completely summarize this relationship by counting the number of passengers in each class that embarked at each location. We can create a pivot table that summarizes this information."
      ]
    },
    {
      "cell_type": "code",
      "metadata": {
        "id": "sWYOk5PrXmWO",
        "colab_type": "code",
        "colab": {
          "base_uri": "https://localhost:8080/",
          "height": 173
        },
        "outputId": "49f80683-efab-43b1-c19a-9ffc71db3319"
      },
      "source": [
        "embarked_pclass_counts = titanic_df.pivot_table(\n",
        "    index=\"embarked\", columns=\"pclass\",\n",
        "    values=\"name\",  # We can pretty much count any column, as long as there are no NaNs.\n",
        "    aggfunc=\"count\" # The count function will count the number of non-null values.\n",
        ")\n",
        "embarked_pclass_counts"
      ],
      "execution_count": 2,
      "outputs": [
        {
          "output_type": "execute_result",
          "data": {
            "text/html": [
              "<div>\n",
              "<style scoped>\n",
              "    .dataframe tbody tr th:only-of-type {\n",
              "        vertical-align: middle;\n",
              "    }\n",
              "\n",
              "    .dataframe tbody tr th {\n",
              "        vertical-align: top;\n",
              "    }\n",
              "\n",
              "    .dataframe thead th {\n",
              "        text-align: right;\n",
              "    }\n",
              "</style>\n",
              "<table border=\"1\" class=\"dataframe\">\n",
              "  <thead>\n",
              "    <tr style=\"text-align: right;\">\n",
              "      <th>pclass</th>\n",
              "      <th>1</th>\n",
              "      <th>2</th>\n",
              "      <th>3</th>\n",
              "    </tr>\n",
              "    <tr>\n",
              "      <th>embarked</th>\n",
              "      <th></th>\n",
              "      <th></th>\n",
              "      <th></th>\n",
              "    </tr>\n",
              "  </thead>\n",
              "  <tbody>\n",
              "    <tr>\n",
              "      <th>C</th>\n",
              "      <td>141</td>\n",
              "      <td>28</td>\n",
              "      <td>101</td>\n",
              "    </tr>\n",
              "    <tr>\n",
              "      <th>Q</th>\n",
              "      <td>3</td>\n",
              "      <td>7</td>\n",
              "      <td>113</td>\n",
              "    </tr>\n",
              "    <tr>\n",
              "      <th>S</th>\n",
              "      <td>177</td>\n",
              "      <td>242</td>\n",
              "      <td>495</td>\n",
              "    </tr>\n",
              "  </tbody>\n",
              "</table>\n",
              "</div>"
            ],
            "text/plain": [
              "pclass      1    2    3\n",
              "embarked               \n",
              "C         141   28  101\n",
              "Q           3    7  113\n",
              "S         177  242  495"
            ]
          },
          "metadata": {
            "tags": []
          },
          "execution_count": 2
        }
      ]
    },
    {
      "cell_type": "markdown",
      "metadata": {
        "id": "w20KwrLaXmWR",
        "colab_type": "text"
      },
      "source": [
        "A pivot table that stores counts is also called a **contigency table** or a **cross-tabulation**. This type of pivot table is common enough that there is a specific function in `pandas` to calculate one, allowing you to bypass `.pivot_table`:"
      ]
    },
    {
      "cell_type": "code",
      "metadata": {
        "id": "eUKntLDhXmWS",
        "colab_type": "code",
        "colab": {
          "base_uri": "https://localhost:8080/",
          "height": 173
        },
        "outputId": "5759e34c-cee6-4aca-e4cd-167f98213139"
      },
      "source": [
        "counts = pd.crosstab(titanic_df.embarked, titanic_df.pclass)\n",
        "counts"
      ],
      "execution_count": 3,
      "outputs": [
        {
          "output_type": "execute_result",
          "data": {
            "text/html": [
              "<div>\n",
              "<style scoped>\n",
              "    .dataframe tbody tr th:only-of-type {\n",
              "        vertical-align: middle;\n",
              "    }\n",
              "\n",
              "    .dataframe tbody tr th {\n",
              "        vertical-align: top;\n",
              "    }\n",
              "\n",
              "    .dataframe thead th {\n",
              "        text-align: right;\n",
              "    }\n",
              "</style>\n",
              "<table border=\"1\" class=\"dataframe\">\n",
              "  <thead>\n",
              "    <tr style=\"text-align: right;\">\n",
              "      <th>pclass</th>\n",
              "      <th>1</th>\n",
              "      <th>2</th>\n",
              "      <th>3</th>\n",
              "    </tr>\n",
              "    <tr>\n",
              "      <th>embarked</th>\n",
              "      <th></th>\n",
              "      <th></th>\n",
              "      <th></th>\n",
              "    </tr>\n",
              "  </thead>\n",
              "  <tbody>\n",
              "    <tr>\n",
              "      <th>C</th>\n",
              "      <td>141</td>\n",
              "      <td>28</td>\n",
              "      <td>101</td>\n",
              "    </tr>\n",
              "    <tr>\n",
              "      <th>Q</th>\n",
              "      <td>3</td>\n",
              "      <td>7</td>\n",
              "      <td>113</td>\n",
              "    </tr>\n",
              "    <tr>\n",
              "      <th>S</th>\n",
              "      <td>177</td>\n",
              "      <td>242</td>\n",
              "      <td>495</td>\n",
              "    </tr>\n",
              "  </tbody>\n",
              "</table>\n",
              "</div>"
            ],
            "text/plain": [
              "pclass      1    2    3\n",
              "embarked               \n",
              "C         141   28  101\n",
              "Q           3    7  113\n",
              "S         177  242  495"
            ]
          },
          "metadata": {
            "tags": []
          },
          "execution_count": 3
        }
      ]
    },
    {
      "cell_type": "markdown",
      "metadata": {
        "id": "57oJ3odZXmWW",
        "colab_type": "text"
      },
      "source": [
        "## Joint Distributions"
      ]
    },
    {
      "cell_type": "markdown",
      "metadata": {
        "id": "gQ9GZemVXmWX",
        "colab_type": "text"
      },
      "source": [
        "It is common to normalize the counts in a table so that they add up to 1. These proportions represent the **joint distribution** of the two variables.\n",
        "\n",
        "To calculate the joint distribution, we need to divide the table of counts above by the total count. To find the total count, we call `.sum()` twice; the first call gives us the sum of each column, and the second call adds those numbers together."
      ]
    },
    {
      "cell_type": "code",
      "metadata": {
        "id": "IKaZGKlsXmWX",
        "colab_type": "code",
        "colab": {
          "base_uri": "https://localhost:8080/",
          "height": 190
        },
        "outputId": "7bae8200-0317-4a40-ea33-cb433ef37bb6"
      },
      "source": [
        "print(counts.sum().sum())\n",
        "joint = counts / counts.sum().sum()\n",
        "joint"
      ],
      "execution_count": 4,
      "outputs": [
        {
          "output_type": "stream",
          "text": [
            "1307\n"
          ],
          "name": "stdout"
        },
        {
          "output_type": "execute_result",
          "data": {
            "text/html": [
              "<div>\n",
              "<style scoped>\n",
              "    .dataframe tbody tr th:only-of-type {\n",
              "        vertical-align: middle;\n",
              "    }\n",
              "\n",
              "    .dataframe tbody tr th {\n",
              "        vertical-align: top;\n",
              "    }\n",
              "\n",
              "    .dataframe thead th {\n",
              "        text-align: right;\n",
              "    }\n",
              "</style>\n",
              "<table border=\"1\" class=\"dataframe\">\n",
              "  <thead>\n",
              "    <tr style=\"text-align: right;\">\n",
              "      <th>pclass</th>\n",
              "      <th>1</th>\n",
              "      <th>2</th>\n",
              "      <th>3</th>\n",
              "    </tr>\n",
              "    <tr>\n",
              "      <th>embarked</th>\n",
              "      <th></th>\n",
              "      <th></th>\n",
              "      <th></th>\n",
              "    </tr>\n",
              "  </thead>\n",
              "  <tbody>\n",
              "    <tr>\n",
              "      <th>C</th>\n",
              "      <td>0.107881</td>\n",
              "      <td>0.021423</td>\n",
              "      <td>0.077276</td>\n",
              "    </tr>\n",
              "    <tr>\n",
              "      <th>Q</th>\n",
              "      <td>0.002295</td>\n",
              "      <td>0.005356</td>\n",
              "      <td>0.086458</td>\n",
              "    </tr>\n",
              "    <tr>\n",
              "      <th>S</th>\n",
              "      <td>0.135425</td>\n",
              "      <td>0.185157</td>\n",
              "      <td>0.378730</td>\n",
              "    </tr>\n",
              "  </tbody>\n",
              "</table>\n",
              "</div>"
            ],
            "text/plain": [
              "pclass           1         2         3\n",
              "embarked                              \n",
              "C         0.107881  0.021423  0.077276\n",
              "Q         0.002295  0.005356  0.086458\n",
              "S         0.135425  0.185157  0.378730"
            ]
          },
          "metadata": {
            "tags": []
          },
          "execution_count": 4
        }
      ]
    },
    {
      "cell_type": "markdown",
      "metadata": {
        "id": "YliRnsRgXmWa",
        "colab_type": "text"
      },
      "source": [
        "Note that this is yet another example of broadcasting. When we divided the `DataFrame` `counts` by the number 1307, the division was applied elementwise, producing another `DataFrame`.\n",
        "\n",
        "Each cell in this `DataFrame` tells us a joint proportion. For example, the cell in the bottom right tells us the proportion of all passengers that embarked at Southampton and were in 3rd class. We notate this joint proportion as follows:\n",
        "\n",
        "$$ P(\\text{embarked at Southampton and in 3rd class}) = .379. $$\n",
        "\n",
        "The joint distribution above could also have been obtained by specifying `normalize=True` when the contingency table was first created:"
      ]
    },
    {
      "cell_type": "code",
      "metadata": {
        "id": "7nb2RIRiXmWb",
        "colab_type": "code",
        "colab": {
          "base_uri": "https://localhost:8080/",
          "height": 173
        },
        "outputId": "b21ae5eb-61c6-4f1d-b7e8-c9fd9722ca86"
      },
      "source": [
        "pd.crosstab(titanic_df.embarked, titanic_df.pclass,\n",
        "            normalize=True)"
      ],
      "execution_count": 5,
      "outputs": [
        {
          "output_type": "execute_result",
          "data": {
            "text/html": [
              "<div>\n",
              "<style scoped>\n",
              "    .dataframe tbody tr th:only-of-type {\n",
              "        vertical-align: middle;\n",
              "    }\n",
              "\n",
              "    .dataframe tbody tr th {\n",
              "        vertical-align: top;\n",
              "    }\n",
              "\n",
              "    .dataframe thead th {\n",
              "        text-align: right;\n",
              "    }\n",
              "</style>\n",
              "<table border=\"1\" class=\"dataframe\">\n",
              "  <thead>\n",
              "    <tr style=\"text-align: right;\">\n",
              "      <th>pclass</th>\n",
              "      <th>1</th>\n",
              "      <th>2</th>\n",
              "      <th>3</th>\n",
              "    </tr>\n",
              "    <tr>\n",
              "      <th>embarked</th>\n",
              "      <th></th>\n",
              "      <th></th>\n",
              "      <th></th>\n",
              "    </tr>\n",
              "  </thead>\n",
              "  <tbody>\n",
              "    <tr>\n",
              "      <th>C</th>\n",
              "      <td>0.107881</td>\n",
              "      <td>0.021423</td>\n",
              "      <td>0.077276</td>\n",
              "    </tr>\n",
              "    <tr>\n",
              "      <th>Q</th>\n",
              "      <td>0.002295</td>\n",
              "      <td>0.005356</td>\n",
              "      <td>0.086458</td>\n",
              "    </tr>\n",
              "    <tr>\n",
              "      <th>S</th>\n",
              "      <td>0.135425</td>\n",
              "      <td>0.185157</td>\n",
              "      <td>0.378730</td>\n",
              "    </tr>\n",
              "  </tbody>\n",
              "</table>\n",
              "</div>"
            ],
            "text/plain": [
              "pclass           1         2         3\n",
              "embarked                              \n",
              "C         0.107881  0.021423  0.077276\n",
              "Q         0.002295  0.005356  0.086458\n",
              "S         0.135425  0.185157  0.378730"
            ]
          },
          "metadata": {
            "tags": []
          },
          "execution_count": 5
        }
      ]
    },
    {
      "cell_type": "markdown",
      "metadata": {
        "id": "b9JOyJNCXmWd",
        "colab_type": "text"
      },
      "source": [
        "The above joint distribution is not, strictly speaking, a contingency table. A contingency table is a table of all counts, while the above table is a table of proportions."
      ]
    },
    {
      "cell_type": "markdown",
      "metadata": {
        "id": "NjR2QLhDXmWe",
        "colab_type": "text"
      },
      "source": [
        "## Marginal Distributions\n",
        "\n",
        "The **marginal distribution** of a variable is simply the distribution of that variable, ignoring the other variables. To calculate the marginal distribution from a joint distribution of two variables, we sum the rows or the columns of the joint distribution.\n",
        "\n",
        "For example, to calculate the marginal distribution of `embarked`, we have to sum the joint distribution over the columns---in other words, _roll-up_ or _marginalize over_ the `pclass` variable:"
      ]
    },
    {
      "cell_type": "code",
      "metadata": {
        "id": "EzkQcduqXmWf",
        "colab_type": "code",
        "colab": {
          "base_uri": "https://localhost:8080/",
          "height": 102
        },
        "outputId": "49796552-9b78-43d3-f0c6-63c39f65fda4"
      },
      "source": [
        "joint.sum(axis=1)"
      ],
      "execution_count": 6,
      "outputs": [
        {
          "output_type": "execute_result",
          "data": {
            "text/plain": [
              "embarked\n",
              "C    0.206580\n",
              "Q    0.094109\n",
              "S    0.699311\n",
              "dtype: float64"
            ]
          },
          "metadata": {
            "tags": []
          },
          "execution_count": 6
        }
      ]
    },
    {
      "cell_type": "markdown",
      "metadata": {
        "id": "yBiE-dFPXmWl",
        "colab_type": "text"
      },
      "source": [
        "We can check this answer by calculating the distribution of `embarked` directly from the original data, ignoring `pclass` entirely."
      ]
    },
    {
      "cell_type": "code",
      "metadata": {
        "id": "4l79qW7yXmWm",
        "colab_type": "code",
        "colab": {
          "base_uri": "https://localhost:8080/",
          "height": 102
        },
        "outputId": "f6811537-208c-4d26-ac2d-f05b17bc04e3"
      },
      "source": [
        "embarked_counts = titanic_df.groupby(\"embarked\")[\"name\"].count()\n",
        "embarked_counts / embarked_counts.sum()"
      ],
      "execution_count": 7,
      "outputs": [
        {
          "output_type": "execute_result",
          "data": {
            "text/plain": [
              "embarked\n",
              "C    0.206580\n",
              "Q    0.094109\n",
              "S    0.699311\n",
              "Name: name, dtype: float64"
            ]
          },
          "metadata": {
            "tags": []
          },
          "execution_count": 7
        }
      ]
    },
    {
      "cell_type": "markdown",
      "metadata": {
        "id": "idIzILJZXmWo",
        "colab_type": "text"
      },
      "source": [
        "The numbers match!\n",
        "\n",
        "Likewise, we calculate the marginal distribution of `pclass` by summing the joint distribution over the rows---in other words, by _rolling-up_ or _marginalizing over_ the `embarked` variable:"
      ]
    },
    {
      "cell_type": "code",
      "metadata": {
        "id": "6OTT48BMXmWp",
        "colab_type": "code",
        "colab": {
          "base_uri": "https://localhost:8080/",
          "height": 102
        },
        "outputId": "cd581b21-9eb6-4eea-e01b-85ea6c8b7c33"
      },
      "source": [
        "joint.sum(axis=0)"
      ],
      "execution_count": 8,
      "outputs": [
        {
          "output_type": "execute_result",
          "data": {
            "text/plain": [
              "pclass\n",
              "1    0.245601\n",
              "2    0.211936\n",
              "3    0.542464\n",
              "dtype: float64"
            ]
          },
          "metadata": {
            "tags": []
          },
          "execution_count": 8
        }
      ]
    },
    {
      "cell_type": "markdown",
      "metadata": {
        "id": "fpPiyCj0XmWr",
        "colab_type": "text"
      },
      "source": [
        "So given the joint distribution of two categorical variables, there are two marginal distributions: one for each of the variables. These marginal distributions are obtained by summing the joint distribution table over the rows and over the columns.\n",
        "\n",
        "The _marginal distribution_ is so-named because these row and column totals would typically be included alongside the joint distribution, in the _margins_ of the table. A contingency table with the marginal distributions included can be obtained by specifying `margins=True` in `pd.crosstab`:"
      ]
    },
    {
      "cell_type": "code",
      "metadata": {
        "id": "Be7wJIxXXmWs",
        "colab_type": "code",
        "colab": {
          "base_uri": "https://localhost:8080/",
          "height": 204
        },
        "outputId": "4d296927-7f02-48bb-8b26-9c37bf864185"
      },
      "source": [
        "pd.crosstab(titanic_df.embarked, titanic_df.pclass,\n",
        "            normalize=True, margins=True)"
      ],
      "execution_count": 9,
      "outputs": [
        {
          "output_type": "execute_result",
          "data": {
            "text/html": [
              "<div>\n",
              "<style scoped>\n",
              "    .dataframe tbody tr th:only-of-type {\n",
              "        vertical-align: middle;\n",
              "    }\n",
              "\n",
              "    .dataframe tbody tr th {\n",
              "        vertical-align: top;\n",
              "    }\n",
              "\n",
              "    .dataframe thead th {\n",
              "        text-align: right;\n",
              "    }\n",
              "</style>\n",
              "<table border=\"1\" class=\"dataframe\">\n",
              "  <thead>\n",
              "    <tr style=\"text-align: right;\">\n",
              "      <th>pclass</th>\n",
              "      <th>1</th>\n",
              "      <th>2</th>\n",
              "      <th>3</th>\n",
              "      <th>All</th>\n",
              "    </tr>\n",
              "    <tr>\n",
              "      <th>embarked</th>\n",
              "      <th></th>\n",
              "      <th></th>\n",
              "      <th></th>\n",
              "      <th></th>\n",
              "    </tr>\n",
              "  </thead>\n",
              "  <tbody>\n",
              "    <tr>\n",
              "      <th>C</th>\n",
              "      <td>0.107881</td>\n",
              "      <td>0.021423</td>\n",
              "      <td>0.077276</td>\n",
              "      <td>0.206580</td>\n",
              "    </tr>\n",
              "    <tr>\n",
              "      <th>Q</th>\n",
              "      <td>0.002295</td>\n",
              "      <td>0.005356</td>\n",
              "      <td>0.086458</td>\n",
              "      <td>0.094109</td>\n",
              "    </tr>\n",
              "    <tr>\n",
              "      <th>S</th>\n",
              "      <td>0.135425</td>\n",
              "      <td>0.185157</td>\n",
              "      <td>0.378730</td>\n",
              "      <td>0.699311</td>\n",
              "    </tr>\n",
              "    <tr>\n",
              "      <th>All</th>\n",
              "      <td>0.245601</td>\n",
              "      <td>0.211936</td>\n",
              "      <td>0.542464</td>\n",
              "      <td>1.000000</td>\n",
              "    </tr>\n",
              "  </tbody>\n",
              "</table>\n",
              "</div>"
            ],
            "text/plain": [
              "pclass           1         2         3       All\n",
              "embarked                                        \n",
              "C         0.107881  0.021423  0.077276  0.206580\n",
              "Q         0.002295  0.005356  0.086458  0.094109\n",
              "S         0.135425  0.185157  0.378730  0.699311\n",
              "All       0.245601  0.211936  0.542464  1.000000"
            ]
          },
          "metadata": {
            "tags": []
          },
          "execution_count": 9
        }
      ]
    },
    {
      "cell_type": "markdown",
      "metadata": {
        "id": "CAg8ZVz8XmWv",
        "colab_type": "text"
      },
      "source": [
        "## Conditional Distributions\n",
        "\n",
        "The **conditional distribution** tells us about the distribution of one variable, _conditional on_ the value of another. For example, we might want to know the proportion of 3rd class passengers that embarked at each location. In other words, what is the distribution of where a passenger embarked, _conditional on_ being in 3rd class?\n",
        "\n",
        "If we go back to the contingency table:"
      ]
    },
    {
      "cell_type": "code",
      "metadata": {
        "id": "Q8tQGo8SXmWw",
        "colab_type": "code",
        "colab": {
          "base_uri": "https://localhost:8080/",
          "height": 173
        },
        "outputId": "68c38b54-a5eb-4d01-94b4-0f5322b398c5"
      },
      "source": [
        "embarked_pclass_counts"
      ],
      "execution_count": 10,
      "outputs": [
        {
          "output_type": "execute_result",
          "data": {
            "text/html": [
              "<div>\n",
              "<style scoped>\n",
              "    .dataframe tbody tr th:only-of-type {\n",
              "        vertical-align: middle;\n",
              "    }\n",
              "\n",
              "    .dataframe tbody tr th {\n",
              "        vertical-align: top;\n",
              "    }\n",
              "\n",
              "    .dataframe thead th {\n",
              "        text-align: right;\n",
              "    }\n",
              "</style>\n",
              "<table border=\"1\" class=\"dataframe\">\n",
              "  <thead>\n",
              "    <tr style=\"text-align: right;\">\n",
              "      <th>pclass</th>\n",
              "      <th>1</th>\n",
              "      <th>2</th>\n",
              "      <th>3</th>\n",
              "    </tr>\n",
              "    <tr>\n",
              "      <th>embarked</th>\n",
              "      <th></th>\n",
              "      <th></th>\n",
              "      <th></th>\n",
              "    </tr>\n",
              "  </thead>\n",
              "  <tbody>\n",
              "    <tr>\n",
              "      <th>C</th>\n",
              "      <td>141</td>\n",
              "      <td>28</td>\n",
              "      <td>101</td>\n",
              "    </tr>\n",
              "    <tr>\n",
              "      <th>Q</th>\n",
              "      <td>3</td>\n",
              "      <td>7</td>\n",
              "      <td>113</td>\n",
              "    </tr>\n",
              "    <tr>\n",
              "      <th>S</th>\n",
              "      <td>177</td>\n",
              "      <td>242</td>\n",
              "      <td>495</td>\n",
              "    </tr>\n",
              "  </tbody>\n",
              "</table>\n",
              "</div>"
            ],
            "text/plain": [
              "pclass      1    2    3\n",
              "embarked               \n",
              "C         141   28  101\n",
              "Q           3    7  113\n",
              "S         177  242  495"
            ]
          },
          "metadata": {
            "tags": []
          },
          "execution_count": 10
        }
      ]
    },
    {
      "cell_type": "markdown",
      "metadata": {
        "id": "rcRBOAYDXmW2",
        "colab_type": "text"
      },
      "source": [
        "there were $101 + 113 + 495 = 709$ passengers in 3rd class, of whom \n",
        "\n",
        "- $101 / 709 = .142$ were in 1st class,\n",
        "- $113 / 709 = .159$ were in 2nd class, and\n",
        "- $495 / 709 = .698$ were in 3rd class.\n",
        "\n",
        "We can calculate these proportions in code by dividing the `pclass=3` column by its sum:"
      ]
    },
    {
      "cell_type": "code",
      "metadata": {
        "id": "LniyDXhBXmW3",
        "colab_type": "code",
        "colab": {
          "base_uri": "https://localhost:8080/",
          "height": 102
        },
        "outputId": "9eeeeba3-58a2-4aea-c9c6-3f67d2824902"
      },
      "source": [
        "embarked_pclass_counts[3] / embarked_pclass_counts[3].sum()"
      ],
      "execution_count": 11,
      "outputs": [
        {
          "output_type": "execute_result",
          "data": {
            "text/plain": [
              "embarked\n",
              "C    0.142454\n",
              "Q    0.159379\n",
              "S    0.698166\n",
              "Name: 3, dtype: float64"
            ]
          },
          "metadata": {
            "tags": []
          },
          "execution_count": 11
        }
      ]
    },
    {
      "cell_type": "markdown",
      "metadata": {
        "id": "SzYfBis2XmW9",
        "colab_type": "text"
      },
      "source": [
        "Notice that these three proportions add up to 1, making this a proper distribution.\n",
        "\n",
        "This conditional distribution helps us answer questions such as, \"What proportion of 3rd class passengers embarked at Southampton?\" We notate this conditional proportion as follows:\n",
        "\n",
        "$$ P\\big(\\textrm{embarked at Southampton}\\ \\big|\\ \\textrm{in 3rd class}\\big) = 0.698. $$\n",
        "\n",
        "The pipe $\\big|$ is read \"given\". So we are interested in the proportion of passengers who embarked at Southampton, _given_ that they were in 3rd class.\n",
        "\n",
        "We could have also calculated this conditional distribution from the joint distribution (i.e., proportions instead of counts):"
      ]
    },
    {
      "cell_type": "code",
      "metadata": {
        "id": "YvpLjfplXmW-",
        "colab_type": "code",
        "colab": {
          "base_uri": "https://localhost:8080/",
          "height": 102
        },
        "outputId": "d6bd0339-33b1-49cb-f2e7-8476a9d6abea"
      },
      "source": [
        "joint[3] / joint[3].sum()"
      ],
      "execution_count": 12,
      "outputs": [
        {
          "output_type": "execute_result",
          "data": {
            "text/plain": [
              "embarked\n",
              "C    0.142454\n",
              "Q    0.159379\n",
              "S    0.698166\n",
              "Name: 3, dtype: float64"
            ]
          },
          "metadata": {
            "tags": []
          },
          "execution_count": 12
        }
      ]
    },
    {
      "cell_type": "markdown",
      "metadata": {
        "id": "IYVASiyUXmXA",
        "colab_type": "text"
      },
      "source": [
        "We have just calculated _one_ of the conditional distributions of `embarked`: the distribution conditional on being in 3rd class. There are two more conditional distributions of `embarked`: \n",
        "\n",
        "- the distribution conditional on being in 1st class \n",
        "- the distribution conditional on being in 2nd class\n",
        "\n",
        "It is common to report _all_ of the conditional distributions of one variable given another variable.\n",
        "\n",
        "Of course, it is straightforward to calculate these conditional distributions manually:"
      ]
    },
    {
      "cell_type": "code",
      "metadata": {
        "id": "7EBGvYBdXmXB",
        "colab_type": "code",
        "colab": {
          "base_uri": "https://localhost:8080/",
          "height": 102
        },
        "outputId": "e109dab5-2c37-49c6-a449-e641eb2a7aa4"
      },
      "source": [
        "embarked_pclass_counts[1] / embarked_pclass_counts[1].sum()"
      ],
      "execution_count": 13,
      "outputs": [
        {
          "output_type": "execute_result",
          "data": {
            "text/plain": [
              "embarked\n",
              "C    0.439252\n",
              "Q    0.009346\n",
              "S    0.551402\n",
              "Name: 1, dtype: float64"
            ]
          },
          "metadata": {
            "tags": []
          },
          "execution_count": 13
        }
      ]
    },
    {
      "cell_type": "code",
      "metadata": {
        "id": "b6a463_ZXmXE",
        "colab_type": "code",
        "colab": {
          "base_uri": "https://localhost:8080/",
          "height": 102
        },
        "outputId": "314376ea-a2bd-4c72-ec3e-bbee09a459d8"
      },
      "source": [
        "embarked_pclass_counts[2] / embarked_pclass_counts[2].sum()"
      ],
      "execution_count": 14,
      "outputs": [
        {
          "output_type": "execute_result",
          "data": {
            "text/plain": [
              "embarked\n",
              "C    0.101083\n",
              "Q    0.025271\n",
              "S    0.873646\n",
              "Name: 2, dtype: float64"
            ]
          },
          "metadata": {
            "tags": []
          },
          "execution_count": 14
        }
      ]
    },
    {
      "cell_type": "markdown",
      "metadata": {
        "id": "9KOUEMj8XmXG",
        "colab_type": "text"
      },
      "source": [
        "But there is a nifty trick for calculating all three conditional distributions at once. By summing the counts over `embarked`, we obtain the total number of people in each `pclass`:"
      ]
    },
    {
      "cell_type": "code",
      "metadata": {
        "id": "J8JVEjHrXmXI",
        "colab_type": "code",
        "colab": {
          "base_uri": "https://localhost:8080/",
          "height": 102
        },
        "outputId": "7fa98243-dddb-4cf8-9a10-99477abc5c4b"
      },
      "source": [
        "pclass_counts = embarked_pclass_counts.sum(axis=0)\n",
        "pclass_counts"
      ],
      "execution_count": 15,
      "outputs": [
        {
          "output_type": "execute_result",
          "data": {
            "text/plain": [
              "pclass\n",
              "1    321\n",
              "2    277\n",
              "3    709\n",
              "dtype: int64"
            ]
          },
          "metadata": {
            "tags": []
          },
          "execution_count": 15
        }
      ]
    },
    {
      "cell_type": "markdown",
      "metadata": {
        "id": "iCIIqQ4gXmXL",
        "colab_type": "text"
      },
      "source": [
        "This is exactly what we need to divide each column of `embarked_pclass_counts` by:"
      ]
    },
    {
      "cell_type": "code",
      "metadata": {
        "id": "2g1gYWsTXmXL",
        "colab_type": "code",
        "colab": {
          "base_uri": "https://localhost:8080/",
          "height": 173
        },
        "outputId": "1a063498-0357-44d5-a4c0-01e53997b417"
      },
      "source": [
        "embarked_given_pclass = embarked_pclass_counts.divide(pclass_counts, axis=1)\n",
        "embarked_given_pclass"
      ],
      "execution_count": 16,
      "outputs": [
        {
          "output_type": "execute_result",
          "data": {
            "text/html": [
              "<div>\n",
              "<style scoped>\n",
              "    .dataframe tbody tr th:only-of-type {\n",
              "        vertical-align: middle;\n",
              "    }\n",
              "\n",
              "    .dataframe tbody tr th {\n",
              "        vertical-align: top;\n",
              "    }\n",
              "\n",
              "    .dataframe thead th {\n",
              "        text-align: right;\n",
              "    }\n",
              "</style>\n",
              "<table border=\"1\" class=\"dataframe\">\n",
              "  <thead>\n",
              "    <tr style=\"text-align: right;\">\n",
              "      <th>pclass</th>\n",
              "      <th>1</th>\n",
              "      <th>2</th>\n",
              "      <th>3</th>\n",
              "    </tr>\n",
              "    <tr>\n",
              "      <th>embarked</th>\n",
              "      <th></th>\n",
              "      <th></th>\n",
              "      <th></th>\n",
              "    </tr>\n",
              "  </thead>\n",
              "  <tbody>\n",
              "    <tr>\n",
              "      <th>C</th>\n",
              "      <td>0.439252</td>\n",
              "      <td>0.101083</td>\n",
              "      <td>0.142454</td>\n",
              "    </tr>\n",
              "    <tr>\n",
              "      <th>Q</th>\n",
              "      <td>0.009346</td>\n",
              "      <td>0.025271</td>\n",
              "      <td>0.159379</td>\n",
              "    </tr>\n",
              "    <tr>\n",
              "      <th>S</th>\n",
              "      <td>0.551402</td>\n",
              "      <td>0.873646</td>\n",
              "      <td>0.698166</td>\n",
              "    </tr>\n",
              "  </tbody>\n",
              "</table>\n",
              "</div>"
            ],
            "text/plain": [
              "pclass           1         2         3\n",
              "embarked                              \n",
              "C         0.439252  0.101083  0.142454\n",
              "Q         0.009346  0.025271  0.159379\n",
              "S         0.551402  0.873646  0.698166"
            ]
          },
          "metadata": {
            "tags": []
          },
          "execution_count": 16
        }
      ]
    },
    {
      "cell_type": "markdown",
      "metadata": {
        "id": "LFst6b1UXmXO",
        "colab_type": "text"
      },
      "source": [
        "(This is yet another example of _broadcasting_, since we are dividing a `DataFrame` by a `Series`.)\n",
        "\n",
        "Compare each column with the numbers we obtained earlier. Notice also that each column sums to 1, a reminder that each column represents a separate distribution.\n",
        "\n",
        "When comparing numbers across distributions, it is important to be careful. For example, the 87.4% and the 69.8% in the \"Southampton\" row represent percentages of different populations. Just because 87.4% is higher than 69.8% does not mean that more 2nd class passengers boarded at Southampton than 3rd class passengers. In fact, if we go back to the original contingency table, we see that more 3rd class passengers actually boarded at Southampton than 2nd class passengers!"
      ]
    },
    {
      "cell_type": "markdown",
      "metadata": {
        "id": "c7sjvxDRXmXP",
        "colab_type": "text"
      },
      "source": [
        "There is also another set of conditional distributions for these two variables: the distribution of class, conditional on where they embarked. To calculate these conditional distributions, we instead divide `embarked_pclass_counts` by the sum of each row:"
      ]
    },
    {
      "cell_type": "code",
      "metadata": {
        "id": "MQZuWcjdXmXP",
        "colab_type": "code",
        "colab": {
          "base_uri": "https://localhost:8080/",
          "height": 173
        },
        "outputId": "be97c71a-c2f4-42b1-efbe-cf1a1ed435e6"
      },
      "source": [
        "embarked_counts = embarked_pclass_counts.sum(axis=1)\n",
        "pclass_given_embarked = embarked_pclass_counts.divide(embarked_counts, axis=0)\n",
        "pclass_given_embarked"
      ],
      "execution_count": 17,
      "outputs": [
        {
          "output_type": "execute_result",
          "data": {
            "text/html": [
              "<div>\n",
              "<style scoped>\n",
              "    .dataframe tbody tr th:only-of-type {\n",
              "        vertical-align: middle;\n",
              "    }\n",
              "\n",
              "    .dataframe tbody tr th {\n",
              "        vertical-align: top;\n",
              "    }\n",
              "\n",
              "    .dataframe thead th {\n",
              "        text-align: right;\n",
              "    }\n",
              "</style>\n",
              "<table border=\"1\" class=\"dataframe\">\n",
              "  <thead>\n",
              "    <tr style=\"text-align: right;\">\n",
              "      <th>pclass</th>\n",
              "      <th>1</th>\n",
              "      <th>2</th>\n",
              "      <th>3</th>\n",
              "    </tr>\n",
              "    <tr>\n",
              "      <th>embarked</th>\n",
              "      <th></th>\n",
              "      <th></th>\n",
              "      <th></th>\n",
              "    </tr>\n",
              "  </thead>\n",
              "  <tbody>\n",
              "    <tr>\n",
              "      <th>C</th>\n",
              "      <td>0.522222</td>\n",
              "      <td>0.103704</td>\n",
              "      <td>0.374074</td>\n",
              "    </tr>\n",
              "    <tr>\n",
              "      <th>Q</th>\n",
              "      <td>0.024390</td>\n",
              "      <td>0.056911</td>\n",
              "      <td>0.918699</td>\n",
              "    </tr>\n",
              "    <tr>\n",
              "      <th>S</th>\n",
              "      <td>0.193654</td>\n",
              "      <td>0.264770</td>\n",
              "      <td>0.541575</td>\n",
              "    </tr>\n",
              "  </tbody>\n",
              "</table>\n",
              "</div>"
            ],
            "text/plain": [
              "pclass           1         2         3\n",
              "embarked                              \n",
              "C         0.522222  0.103704  0.374074\n",
              "Q         0.024390  0.056911  0.918699\n",
              "S         0.193654  0.264770  0.541575"
            ]
          },
          "metadata": {
            "tags": []
          },
          "execution_count": 17
        }
      ]
    },
    {
      "cell_type": "markdown",
      "metadata": {
        "id": "bDp26XDLXmXR",
        "colab_type": "text"
      },
      "source": [
        "These conditional distributions answer questions like, \"What proportion of Southampton passengers were in 3rd class?\" \n",
        "\n",
        "Notice that these proportions are _not_ the same as the proportions for the other set of conditional distributions. That is because the two questions below are fundamentally different:\n",
        "\n",
        "_Question 1._ What proportion of 3rd class passengers embarked at Southampton?\n",
        "\n",
        "$$P\\big(\\textrm{embarked at Southampton}\\ \\big|\\ \\textrm{in 3rd class}\\big) = \\frac{\\text{# passengers who embarked at Southampton and in 3rd class}}{\\text{# passengers who in 3rd class}}$$\n",
        "\n",
        "_Question 2._ What proportion of Southampton passengers were in 3rd class? \n",
        "\n",
        "$$P\\big(\\textrm{in 3rd class}\\ \\big|\\ \\textrm{embarked at Southampton}\\big) = \\frac{\\text{# passengers who embarked at Southampton and in 3rd class}}{\\text{# passengers who embarked at Southampton}} \\\\ $$\n",
        "\n",
        "\n",
        "\n",
        "In the first case, the reference population is all passengers who embarked at Southampton. In the second case, the reference population is all passengers who were in 3rd class. The numerators may be the same, but the denominators are different. In general, the conditional distributions of $X$ given $Y$ are _not_ the same as the conditional distributions of $Y$ given $X$. \n",
        "\n",
        "If we rephrase the question slightly, we get yet another answer:\n",
        "\n",
        "_Question 3._ What proportion of passengers embarked at Southampton _and_ were in 3rd class?\n",
        "\n",
        "$$P(\\text{embarked at Southampton and in 3rd class}) = \\frac{\\text{# passengers who embarked at Southampton and in 3rd class}}{\\text{# passengers (total)}}$$\n",
        "\n",
        "The reference population here is all passengers. This is the proportion that one would get from the joint distribution.\n",
        "\n",
        "It is important to pay attention to the wording of the question, to determine whether a joint distribution or a conditional distribution is called for---and, if the latter, which of the two conditional distributions is appropriate."
      ]
    },
    {
      "cell_type": "markdown",
      "metadata": {
        "id": "mvsBC3AkXmXS",
        "colab_type": "text"
      },
      "source": [
        "## Visualization\n",
        "\n",
        "How do we visualize the joint and conditional distributions of two categorical variables? \n",
        "\n",
        "To visualize a joint distribution, we need to be able to represent three dimensions: two dimensions for the two categorical variables and a third dimension for the proportions. Although one option is a 3D graph, humans are not good at judging the sizes of 3D objects printed on a page. For this reason, **heat maps**, which use a color scale to represent the third dimension, are usually preferred. \n",
        "\n",
        "Unfortunately, heat maps are still not easy to create in `pandas`. We use the `seaborn` library to make a heat map:"
      ]
    },
    {
      "cell_type": "code",
      "metadata": {
        "id": "AxdhqaqtXmXS",
        "colab_type": "code",
        "colab": {
          "base_uri": "https://localhost:8080/",
          "height": 350
        },
        "outputId": "11264d36-37e0-4e24-c140-5f110f1a2eca"
      },
      "source": [
        "import seaborn as sns\n",
        "\n",
        "sns.heatmap(joint)"
      ],
      "execution_count": 18,
      "outputs": [
        {
          "output_type": "stream",
          "text": [
            "/usr/local/lib/python3.6/dist-packages/statsmodels/tools/_testing.py:19: FutureWarning: pandas.util.testing is deprecated. Use the functions in the public API at pandas.testing instead.\n",
            "  import pandas.util.testing as tm\n"
          ],
          "name": "stderr"
        },
        {
          "output_type": "execute_result",
          "data": {
            "text/plain": [
              "<matplotlib.axes._subplots.AxesSubplot at 0x7f401676b550>"
            ]
          },
          "metadata": {
            "tags": []
          },
          "execution_count": 18
        },
        {
          "output_type": "display_data",
          "data": {
            "image/png": "[encoded data removed]",
            "text/plain": [
              "<Figure size 432x288 with 2 Axes>"
            ]
          },
          "metadata": {
            "tags": [],
            "needs_background": "light"
          }
        }
      ]
    },
    {
      "cell_type": "markdown",
      "metadata": {
        "id": "rpBH7EZ4XmXV",
        "colab_type": "text"
      },
      "source": [
        "A heat map encourages comparison across cells. So we see that 3rd class passengers who embarked at Southampton were by far the most common.\n",
        "\n",
        "Although a heat map can also be used to visualize conditional distributions, it is not ideal because it does not tell us which variable we are conditioning on, and it is difficult to judge visually which dimension sums to 1. A stacked bar graph is better because it visually shows values summing to 1.\n",
        "\n",
        "To make a stacked bar graph, we simply specify `stacked=True` in `.plot.bar()`, to get the bars to show up on top of one another, instead of side-by-side:"
      ]
    },
    {
      "cell_type": "code",
      "metadata": {
        "id": "Y7uHEWADXmXW",
        "colab_type": "code",
        "colab": {
          "base_uri": "https://localhost:8080/",
          "height": 294
        },
        "outputId": "3247c023-d0b0-4ce4-93d6-3ec69748f691"
      },
      "source": [
        "pclass_given_embarked.plot.bar(stacked=True)"
      ],
      "execution_count": 19,
      "outputs": [
        {
          "output_type": "execute_result",
          "data": {
            "text/plain": [
              "<matplotlib.axes._subplots.AxesSubplot at 0x7f40139e1e10>"
            ]
          },
          "metadata": {
            "tags": []
          },
          "execution_count": 19
        },
        {
          "output_type": "display_data",
          "data": {
            "image/png": "[encoded data removed]",
            "text/plain": [
              "<Figure size 432x288 with 1 Axes>"
            ]
          },
          "metadata": {
            "tags": [],
            "needs_background": "light"
          }
        }
      ]
    },
    {
      "cell_type": "markdown",
      "metadata": {
        "id": "KjExf8qdXmXa",
        "colab_type": "text"
      },
      "source": [
        "However, the same code does not work on the other set of conditional distributions:"
      ]
    },
    {
      "cell_type": "code",
      "metadata": {
        "id": "CwHjoqaiXmXb",
        "colab_type": "code",
        "colab": {
          "base_uri": "https://localhost:8080/",
          "height": 294
        },
        "outputId": "e57ed979-cc97-43f1-e819-be36e7fcf06e"
      },
      "source": [
        "embarked_given_pclass.plot.bar(stacked=True)"
      ],
      "execution_count": 20,
      "outputs": [
        {
          "output_type": "execute_result",
          "data": {
            "text/plain": [
              "<matplotlib.axes._subplots.AxesSubplot at 0x7f40138fa9b0>"
            ]
          },
          "metadata": {
            "tags": []
          },
          "execution_count": 20
        },
        {
          "output_type": "display_data",
          "data": {
            "image/png": "[encoded data removed]",
            "text/plain": [
              "<Figure size 432x288 with 1 Axes>"
            ]
          },
          "metadata": {
            "tags": [],
            "needs_background": "light"
          }
        }
      ]
    },
    {
      "cell_type": "markdown",
      "metadata": {
        "id": "CV4bvspYXmXf",
        "colab_type": "text"
      },
      "source": [
        "What went wrong? Recall that `.plot.bar()` automatically plots the (row) index of the `DataFrame` on the $x$-axis. To plot the distribution of `embarked` conditional on `pclass`, we need `pclass` to be on the $x$-axis, but "
      ]
    },
    {
      "cell_type": "code",
      "metadata": {
        "id": "puhBzRtAXmXi",
        "colab_type": "code",
        "colab": {
          "base_uri": "https://localhost:8080/",
          "height": 173
        },
        "outputId": "836ff27e-0757-4abe-df6d-29f4e506488d"
      },
      "source": [
        "embarked_given_pclass"
      ],
      "execution_count": 21,
      "outputs": [
        {
          "output_type": "execute_result",
          "data": {
            "text/html": [
              "<div>\n",
              "<style scoped>\n",
              "    .dataframe tbody tr th:only-of-type {\n",
              "        vertical-align: middle;\n",
              "    }\n",
              "\n",
              "    .dataframe tbody tr th {\n",
              "        vertical-align: top;\n",
              "    }\n",
              "\n",
              "    .dataframe thead th {\n",
              "        text-align: right;\n",
              "    }\n",
              "</style>\n",
              "<table border=\"1\" class=\"dataframe\">\n",
              "  <thead>\n",
              "    <tr style=\"text-align: right;\">\n",
              "      <th>pclass</th>\n",
              "      <th>1</th>\n",
              "      <th>2</th>\n",
              "      <th>3</th>\n",
              "    </tr>\n",
              "    <tr>\n",
              "      <th>embarked</th>\n",
              "      <th></th>\n",
              "      <th></th>\n",
              "      <th></th>\n",
              "    </tr>\n",
              "  </thead>\n",
              "  <tbody>\n",
              "    <tr>\n",
              "      <th>C</th>\n",
              "      <td>0.439252</td>\n",
              "      <td>0.101083</td>\n",
              "      <td>0.142454</td>\n",
              "    </tr>\n",
              "    <tr>\n",
              "      <th>Q</th>\n",
              "      <td>0.009346</td>\n",
              "      <td>0.025271</td>\n",
              "      <td>0.159379</td>\n",
              "    </tr>\n",
              "    <tr>\n",
              "      <th>S</th>\n",
              "      <td>0.551402</td>\n",
              "      <td>0.873646</td>\n",
              "      <td>0.698166</td>\n",
              "    </tr>\n",
              "  </tbody>\n",
              "</table>\n",
              "</div>"
            ],
            "text/plain": [
              "pclass           1         2         3\n",
              "embarked                              \n",
              "C         0.439252  0.101083  0.142454\n",
              "Q         0.009346  0.025271  0.159379\n",
              "S         0.551402  0.873646  0.698166"
            ]
          },
          "metadata": {
            "tags": []
          },
          "execution_count": 21
        }
      ]
    },
    {
      "cell_type": "markdown",
      "metadata": {
        "id": "VcpREyafXmXn",
        "colab_type": "text"
      },
      "source": [
        "has `embarked` as the index. To make `pclass` the index, we can **transpose** this `DataFrame` so that the rows become columns and the columns become rows. The syntax for transposing a `DataFrame` is `.T`, which is inspired by the notation for transposing a matrix in linear algebra."
      ]
    },
    {
      "cell_type": "code",
      "metadata": {
        "id": "6Ah-hW91XmXo",
        "colab_type": "code",
        "colab": {
          "base_uri": "https://localhost:8080/",
          "height": 173
        },
        "outputId": "65c9538e-f2e9-45af-8a66-4f4511706500"
      },
      "source": [
        "embarked_given_pclass.T"
      ],
      "execution_count": 22,
      "outputs": [
        {
          "output_type": "execute_result",
          "data": {
            "text/html": [
              "<div>\n",
              "<style scoped>\n",
              "    .dataframe tbody tr th:only-of-type {\n",
              "        vertical-align: middle;\n",
              "    }\n",
              "\n",
              "    .dataframe tbody tr th {\n",
              "        vertical-align: top;\n",
              "    }\n",
              "\n",
              "    .dataframe thead th {\n",
              "        text-align: right;\n",
              "    }\n",
              "</style>\n",
              "<table border=\"1\" class=\"dataframe\">\n",
              "  <thead>\n",
              "    <tr style=\"text-align: right;\">\n",
              "      <th>embarked</th>\n",
              "      <th>C</th>\n",
              "      <th>Q</th>\n",
              "      <th>S</th>\n",
              "    </tr>\n",
              "    <tr>\n",
              "      <th>pclass</th>\n",
              "      <th></th>\n",
              "      <th></th>\n",
              "      <th></th>\n",
              "    </tr>\n",
              "  </thead>\n",
              "  <tbody>\n",
              "    <tr>\n",
              "      <th>1</th>\n",
              "      <td>0.439252</td>\n",
              "      <td>0.009346</td>\n",
              "      <td>0.551402</td>\n",
              "    </tr>\n",
              "    <tr>\n",
              "      <th>2</th>\n",
              "      <td>0.101083</td>\n",
              "      <td>0.025271</td>\n",
              "      <td>0.873646</td>\n",
              "    </tr>\n",
              "    <tr>\n",
              "      <th>3</th>\n",
              "      <td>0.142454</td>\n",
              "      <td>0.159379</td>\n",
              "      <td>0.698166</td>\n",
              "    </tr>\n",
              "  </tbody>\n",
              "</table>\n",
              "</div>"
            ],
            "text/plain": [
              "embarked         C         Q         S\n",
              "pclass                                \n",
              "1         0.439252  0.009346  0.551402\n",
              "2         0.101083  0.025271  0.873646\n",
              "3         0.142454  0.159379  0.698166"
            ]
          },
          "metadata": {
            "tags": []
          },
          "execution_count": 22
        }
      ]
    },
    {
      "cell_type": "markdown",
      "metadata": {
        "id": "AuzFXV8jXmXr",
        "colab_type": "text"
      },
      "source": [
        "Now, we can make a stacked bar graph from this _transposed_ `DataFrame`:"
      ]
    },
    {
      "cell_type": "code",
      "metadata": {
        "id": "dCRAXBJwXmXs",
        "colab_type": "code",
        "colab": {
          "base_uri": "https://localhost:8080/",
          "height": 293
        },
        "outputId": "03fc2066-09a2-441a-dbcc-c972b51d575c"
      },
      "source": [
        "(embarked_given_pclass.T).plot.bar(stacked=True)"
      ],
      "execution_count": 23,
      "outputs": [
        {
          "output_type": "execute_result",
          "data": {
            "text/plain": [
              "<matplotlib.axes._subplots.AxesSubplot at 0x7f4013887fd0>"
            ]
          },
          "metadata": {
            "tags": []
          },
          "execution_count": 23
        },
        {
          "output_type": "display_data",
          "data": {
            "image/png": "[encoded data removed]",
            "text/plain": [
              "<Figure size 432x288 with 1 Axes>"
            ]
          },
          "metadata": {
            "tags": [],
            "needs_background": "light"
          }
        }
      ]
    },
    {
      "cell_type": "markdown",
      "metadata": {
        "id": "uE0pLqHKXmXt",
        "colab_type": "text"
      },
      "source": [
        "# Exercises"
      ]
    },
    {
      "cell_type": "markdown",
      "metadata": {
        "id": "4tDaLcSrXmXu",
        "colab_type": "text"
      },
      "source": [
        "Exercises 1-4 deal with the Tips data set (`tips.csv`)."
      ]
    },
    {
      "cell_type": "markdown",
      "metadata": {
        "id": "COeLF4a2XmXu",
        "colab_type": "text"
      },
      "source": [
        "**Exercise 1.** Make a visualization that displays the relationship between the day of the week and party size."
      ]
    },
    {
      "cell_type": "code",
      "metadata": {
        "id": "7rSbTwThXmXv",
        "colab_type": "code",
        "colab": {
          "base_uri": "https://localhost:8080/",
          "height": 296
        },
        "outputId": "94ae19b8-a579-471e-c8f0-ad5583f7d999"
      },
      "source": [
        "%matplotlib inline\n",
        "import pandas as pd\n",
        "import seaborn as sns\n",
        "\n",
        "tips_df = pd.read_csv(\"tips.csv\")\n",
        "party_week_counts = tips_df.pivot_table(\n",
        "    index=\"size\", columns=\"day\",\n",
        "    values=\"totbill\",  # We can pretty much count any column, as long as there are no NaNs.\n",
        "    aggfunc=\"count\" # The count function will count the number of non-null values.\n",
        ")\n",
        "party_week_counts\n",
        "\n",
        "joint_dist = party_week_counts / party_week_counts.sum().sum()\n",
        "\n",
        "sns.heatmap(joint_dist)"
      ],
      "execution_count": 24,
      "outputs": [
        {
          "output_type": "execute_result",
          "data": {
            "text/plain": [
              "<matplotlib.axes._subplots.AxesSubplot at 0x7f401380feb8>"
            ]
          },
          "metadata": {
            "tags": []
          },
          "execution_count": 24
        },
        {
          "output_type": "display_data",
          "data": {
            "image/png": "[encoded data removed]",
            "text/plain": [
              "<Figure size 432x288 with 2 Axes>"
            ]
          },
          "metadata": {
            "tags": [],
            "needs_background": "light"
          }
        }
      ]
    },
    {
      "cell_type": "markdown",
      "metadata": {
        "id": "rgqeWNU7XmXw",
        "colab_type": "text"
      },
      "source": [
        "**Exercise 2.** Calculate the marginal distribution of day of week in two different ways."
      ]
    },
    {
      "cell_type": "code",
      "metadata": {
        "id": "WDaz_CKNXmXx",
        "colab_type": "code",
        "colab": {
          "base_uri": "https://localhost:8080/",
          "height": 119
        },
        "outputId": "abe45462-c7b4-4fbf-8e3d-24aea7773741"
      },
      "source": [
        "# Method 1\n",
        "day_marg_dist = joint_dist.sum(axis=0)\n",
        "day_marg_dist"
      ],
      "execution_count": 25,
      "outputs": [
        {
          "output_type": "execute_result",
          "data": {
            "text/plain": [
              "day\n",
              "Fri    0.077869\n",
              "Sat    0.356557\n",
              "Sun    0.311475\n",
              "Thu    0.254098\n",
              "dtype: float64"
            ]
          },
          "metadata": {
            "tags": []
          },
          "execution_count": 25
        }
      ]
    },
    {
      "cell_type": "code",
      "metadata": {
        "id": "fxWDUbn5Htyd",
        "colab_type": "code",
        "colab": {
          "base_uri": "https://localhost:8080/",
          "height": 119
        },
        "outputId": "52c8d589-59e4-4f51-b2f9-1ed5a46031b7"
      },
      "source": [
        "# Method 2\n",
        "day_counts = tips_df.groupby(\"day\")[\"totbill\"].count()\n",
        "day_counts /day_counts.sum()"
      ],
      "execution_count": 26,
      "outputs": [
        {
          "output_type": "execute_result",
          "data": {
            "text/plain": [
              "day\n",
              "Fri    0.077869\n",
              "Sat    0.356557\n",
              "Sun    0.311475\n",
              "Thu    0.254098\n",
              "Name: totbill, dtype: float64"
            ]
          },
          "metadata": {
            "tags": []
          },
          "execution_count": 26
        }
      ]
    },
    {
      "cell_type": "markdown",
      "metadata": {
        "id": "imqJYQB5XmXz",
        "colab_type": "text"
      },
      "source": [
        "**Exercise 3.** Make a visualization that displays the conditional distribution of party size, given the day of the week."
      ]
    },
    {
      "cell_type": "code",
      "metadata": {
        "id": "dpWLHaxMXmX0",
        "colab_type": "code",
        "colab": {
          "base_uri": "https://localhost:8080/",
          "height": 293
        },
        "outputId": "d16b6956-a4e9-4c65-cda9-542a36c5e156"
      },
      "source": [
        "party_counts = party_week_counts.sum(axis=1)\n",
        "size_given_day = party_week_counts.divide(party_counts, axis=0)\n",
        "size_given_day.plot.bar(stacked=True)"
      ],
      "execution_count": 27,
      "outputs": [
        {
          "output_type": "execute_result",
          "data": {
            "text/plain": [
              "<matplotlib.axes._subplots.AxesSubplot at 0x7f4013730c88>"
            ]
          },
          "metadata": {
            "tags": []
          },
          "execution_count": 27
        },
        {
          "output_type": "display_data",
          "data": {
            "image/png": "[encoded data removed]",
            "text/plain": [
              "<Figure size 432x288 with 1 Axes>"
            ]
          },
          "metadata": {
            "tags": [],
            "needs_background": "light"
          }
        }
      ]
    },
    {
      "cell_type": "markdown",
      "metadata": {
        "id": "ELVy5WbwXmX3",
        "colab_type": "text"
      },
      "source": [
        "**Exercise 4.** What proportion of Saturday parties had 2 people? Is this the same as the proportion of 2-person parties that dined on Saturday?"
      ]
    },
    {
      "cell_type": "code",
      "metadata": {
        "id": "azo1b3iZXmX3",
        "colab_type": "code",
        "colab": {
          "base_uri": "https://localhost:8080/",
          "height": 357
        },
        "outputId": "2395f77c-21c6-40c0-a7a1-e46b8582e77e"
      },
      "source": [
        "# P(day=1 | size=1)\n",
        "day_given_size = size_given_day.T\n",
        "print(day_given_size)\n",
        "print(\"\\n Proportion of Saturday parties w/ 2 people : \" + str(day_given_size.iloc[1,1]) + \"\\n\")\n",
        "\n",
        "# P(size=1 | day=1)\n",
        "print(size_given_day)\n",
        "print(\"\\n Proportion of Saturday parties w/ 2 people : \" + str(size_given_day.iloc[1,1]) + \"\\n\")"
      ],
      "execution_count": 28,
      "outputs": [
        {
          "output_type": "stream",
          "text": [
            "size     1         2         3         4    5     6\n",
            "day                                                \n",
            "Fri   0.25  0.102564  0.026316  0.027027  NaN   NaN\n",
            "Sat   0.50  0.339744  0.473684  0.351351  0.2   NaN\n",
            "Sun    NaN  0.250000  0.394737  0.486486  0.6  0.25\n",
            "Thu   0.25  0.307692  0.105263  0.135135  0.2  0.75\n",
            "\n",
            " Proportion of Saturday parties w/ 2 people : 0.33974358974358976\n",
            "\n",
            "day        Fri       Sat       Sun       Thu\n",
            "size                                        \n",
            "1     0.250000  0.500000       NaN  0.250000\n",
            "2     0.102564  0.339744  0.250000  0.307692\n",
            "3     0.026316  0.473684  0.394737  0.105263\n",
            "4     0.027027  0.351351  0.486486  0.135135\n",
            "5          NaN  0.200000  0.600000  0.200000\n",
            "6          NaN       NaN  0.250000  0.750000\n",
            "\n",
            " Proportion of Saturday parties w/ 2 people : 0.33974358974358976\n",
            "\n"
          ],
          "name": "stdout"
        }
      ]
    },
    {
      "cell_type": "markdown",
      "metadata": {
        "id": "cCo6GD75Q8VX",
        "colab_type": "text"
      },
      "source": [
        "**Yes, in this case the two proportions are the same. This is because when transposing the table, entries along the diagonal (like P(1,1), P(2,2), etc.) don't change. However, if you look at P(Fri|2) and P(2|Fri), those two values are not the same.**"
      ]
    }
  ]
}